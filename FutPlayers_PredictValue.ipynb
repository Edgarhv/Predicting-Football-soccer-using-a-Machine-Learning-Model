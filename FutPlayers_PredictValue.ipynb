{
 "cells": [
  {
   "cell_type": "markdown",
   "id": "1ed39364",
   "metadata": {},
   "source": [
    "# Import Libraries"
   ]
  },
  {
   "cell_type": "code",
   "execution_count": null,
   "id": "9b8eebf7",
   "metadata": {},
   "outputs": [],
   "source": []
  },
  {
   "cell_type": "code",
   "execution_count": 1,
   "id": "53d09271",
   "metadata": {},
   "outputs": [],
   "source": [
    "import pandas as pd\n",
    "import numpy as np\n",
    "import psycopg2\n",
    "import seaborn as sns\n",
    "import matplotlib.pyplot as plt\n",
    "import plotly.graph_objs as go\n",
    "import plotly.express as px\n",
    "\n",
    "import matplotlib.pyplot as plt\n",
    "import matplotlib.pylab as plb \n",
    "\n",
    "import patsy\n",
    "import seaborn as sns\n",
    "\n",
    "from sklearn.preprocessing import OneHotEncoder\n",
    "from sklearn.preprocessing import PolynomialFeatures, StandardScaler\n",
    "from sklearn import datasets, linear_model\n",
    "from sklearn.linear_model import LinearRegression, Lasso, LassoCV, Ridge, RidgeCV\n",
    "from sklearn.metrics import mean_squared_error, r2_score\n",
    "from sklearn.model_selection import train_test_split, KFold\n",
    "from sklearn.pipeline import Pipeline"
   ]
  },
  {
   "cell_type": "markdown",
   "id": "7979b8fb",
   "metadata": {},
   "source": [
    "# Import dataset from Heroku"
   ]
  },
  {
   "cell_type": "code",
   "execution_count": 2,
   "id": "9b462539",
   "metadata": {
    "scrolled": true
   },
   "outputs": [
    {
     "name": "stdout",
     "output_type": "stream",
     "text": [
      "Enter database password········\n",
      "Loading data from Heroku\n"
     ]
    },
    {
     "data": {
      "text/html": [
       "<div>\n",
       "<style scoped>\n",
       "    .dataframe tbody tr th:only-of-type {\n",
       "        vertical-align: middle;\n",
       "    }\n",
       "\n",
       "    .dataframe tbody tr th {\n",
       "        vertical-align: top;\n",
       "    }\n",
       "\n",
       "    .dataframe thead th {\n",
       "        text-align: right;\n",
       "    }\n",
       "</style>\n",
       "<table border=\"1\" class=\"dataframe\">\n",
       "  <thead>\n",
       "    <tr style=\"text-align: right;\">\n",
       "      <th></th>\n",
       "      <th>age</th>\n",
       "      <th>player_position</th>\n",
       "      <th>games</th>\n",
       "      <th>goals</th>\n",
       "      <th>assists</th>\n",
       "      <th>hours_played</th>\n",
       "      <th>yellow_cards</th>\n",
       "      <th>red_cards</th>\n",
       "      <th>transfer_fee</th>\n",
       "      <th>market_value</th>\n",
       "      <th>club_market_value</th>\n",
       "    </tr>\n",
       "  </thead>\n",
       "  <tbody>\n",
       "    <tr>\n",
       "      <th>0</th>\n",
       "      <td>25</td>\n",
       "      <td>Attack</td>\n",
       "      <td>27</td>\n",
       "      <td>25</td>\n",
       "      <td>16</td>\n",
       "      <td>40.4500</td>\n",
       "      <td>8</td>\n",
       "      <td>0</td>\n",
       "      <td>222000000</td>\n",
       "      <td>100000000</td>\n",
       "      <td>891180000</td>\n",
       "    </tr>\n",
       "    <tr>\n",
       "      <th>1</th>\n",
       "      <td>33</td>\n",
       "      <td>Attack</td>\n",
       "      <td>43</td>\n",
       "      <td>28</td>\n",
       "      <td>10</td>\n",
       "      <td>60.7667</td>\n",
       "      <td>4</td>\n",
       "      <td>1</td>\n",
       "      <td>117000000</td>\n",
       "      <td>100000000</td>\n",
       "      <td>816530000</td>\n",
       "    </tr>\n",
       "    <tr>\n",
       "      <th>2</th>\n",
       "      <td>25</td>\n",
       "      <td>Midfield</td>\n",
       "      <td>42</td>\n",
       "      <td>21</td>\n",
       "      <td>15</td>\n",
       "      <td>49.8833</td>\n",
       "      <td>1</td>\n",
       "      <td>0</td>\n",
       "      <td>125000000</td>\n",
       "      <td>90000000</td>\n",
       "      <td>604800000</td>\n",
       "    </tr>\n",
       "    <tr>\n",
       "      <th>3</th>\n",
       "      <td>22</td>\n",
       "      <td>Midfield</td>\n",
       "      <td>43</td>\n",
       "      <td>3</td>\n",
       "      <td>6</td>\n",
       "      <td>43.5333</td>\n",
       "      <td>5</td>\n",
       "      <td>0</td>\n",
       "      <td>70000000</td>\n",
       "      <td>65000000</td>\n",
       "      <td>671310000</td>\n",
       "    </tr>\n",
       "    <tr>\n",
       "      <th>4</th>\n",
       "      <td>25</td>\n",
       "      <td>Goalkeeper</td>\n",
       "      <td>51</td>\n",
       "      <td>0</td>\n",
       "      <td>0</td>\n",
       "      <td>76.5000</td>\n",
       "      <td>1</td>\n",
       "      <td>0</td>\n",
       "      <td>62500000</td>\n",
       "      <td>60000000</td>\n",
       "      <td>779850000</td>\n",
       "    </tr>\n",
       "    <tr>\n",
       "      <th>...</th>\n",
       "      <td>...</td>\n",
       "      <td>...</td>\n",
       "      <td>...</td>\n",
       "      <td>...</td>\n",
       "      <td>...</td>\n",
       "      <td>...</td>\n",
       "      <td>...</td>\n",
       "      <td>...</td>\n",
       "      <td>...</td>\n",
       "      <td>...</td>\n",
       "      <td>...</td>\n",
       "    </tr>\n",
       "    <tr>\n",
       "      <th>344</th>\n",
       "      <td>20</td>\n",
       "      <td>Midfield</td>\n",
       "      <td>1</td>\n",
       "      <td>0</td>\n",
       "      <td>0</td>\n",
       "      <td>0.1500</td>\n",
       "      <td>0</td>\n",
       "      <td>0</td>\n",
       "      <td>10000000</td>\n",
       "      <td>800000</td>\n",
       "      <td>301820000</td>\n",
       "    </tr>\n",
       "    <tr>\n",
       "      <th>345</th>\n",
       "      <td>20</td>\n",
       "      <td>Midfield</td>\n",
       "      <td>1</td>\n",
       "      <td>0</td>\n",
       "      <td>0</td>\n",
       "      <td>1.5000</td>\n",
       "      <td>0</td>\n",
       "      <td>0</td>\n",
       "      <td>5000000</td>\n",
       "      <td>800000</td>\n",
       "      <td>373820000</td>\n",
       "    </tr>\n",
       "    <tr>\n",
       "      <th>346</th>\n",
       "      <td>19</td>\n",
       "      <td>Attack</td>\n",
       "      <td>1</td>\n",
       "      <td>0</td>\n",
       "      <td>0</td>\n",
       "      <td>0.2500</td>\n",
       "      <td>0</td>\n",
       "      <td>0</td>\n",
       "      <td>5000000</td>\n",
       "      <td>800000</td>\n",
       "      <td>9050000</td>\n",
       "    </tr>\n",
       "    <tr>\n",
       "      <th>347</th>\n",
       "      <td>22</td>\n",
       "      <td>Defender</td>\n",
       "      <td>22</td>\n",
       "      <td>0</td>\n",
       "      <td>1</td>\n",
       "      <td>29.7333</td>\n",
       "      <td>3</td>\n",
       "      <td>0</td>\n",
       "      <td>5000000</td>\n",
       "      <td>600000</td>\n",
       "      <td>98420000</td>\n",
       "    </tr>\n",
       "    <tr>\n",
       "      <th>348</th>\n",
       "      <td>22</td>\n",
       "      <td>Defender</td>\n",
       "      <td>22</td>\n",
       "      <td>0</td>\n",
       "      <td>1</td>\n",
       "      <td>29.7333</td>\n",
       "      <td>3</td>\n",
       "      <td>0</td>\n",
       "      <td>5000000</td>\n",
       "      <td>600000</td>\n",
       "      <td>98420000</td>\n",
       "    </tr>\n",
       "  </tbody>\n",
       "</table>\n",
       "<p>349 rows × 11 columns</p>\n",
       "</div>"
      ],
      "text/plain": [
       "     age player_position  games  goals  assists hours_played  yellow_cards  \\\n",
       "0     25          Attack     27     25       16      40.4500             8   \n",
       "1     33          Attack     43     28       10      60.7667             4   \n",
       "2     25        Midfield     42     21       15      49.8833             1   \n",
       "3     22        Midfield     43      3        6      43.5333             5   \n",
       "4     25      Goalkeeper     51      0        0      76.5000             1   \n",
       "..   ...             ...    ...    ...      ...          ...           ...   \n",
       "344   20        Midfield      1      0        0       0.1500             0   \n",
       "345   20        Midfield      1      0        0       1.5000             0   \n",
       "346   19          Attack      1      0        0       0.2500             0   \n",
       "347   22        Defender     22      0        1      29.7333             3   \n",
       "348   22        Defender     22      0        1      29.7333             3   \n",
       "\n",
       "     red_cards  transfer_fee  market_value  club_market_value  \n",
       "0            0     222000000     100000000          891180000  \n",
       "1            1     117000000     100000000          816530000  \n",
       "2            0     125000000      90000000          604800000  \n",
       "3            0      70000000      65000000          671310000  \n",
       "4            0      62500000      60000000          779850000  \n",
       "..         ...           ...           ...                ...  \n",
       "344          0      10000000        800000          301820000  \n",
       "345          0       5000000        800000          373820000  \n",
       "346          0       5000000        800000            9050000  \n",
       "347          0       5000000        600000           98420000  \n",
       "348          0       5000000        600000           98420000  \n",
       "\n",
       "[349 rows x 11 columns]"
      ]
     },
     "execution_count": 2,
     "metadata": {},
     "output_type": "execute_result"
    }
   ],
   "source": [
    "from getpass import getpass\n",
    "password = getpass('Enter database password')\n",
    "\n",
    "connection = psycopg2.connect(user=\"azcaqpdjrciaow\",\n",
    "                                  password=password,\n",
    "                                  host=\"ec2-34-226-18-183.compute-1.amazonaws.com\",\n",
    "                                  port=\"5432\",\n",
    "                                  database=\"d7m85rf8c5rhv5\")\n",
    "cursor = connection.cursor()\n",
    "postgreSQL_select_Query = \"select * from player_market_values where season = 2018 or season = 2017\"\n",
    "\n",
    "cursor.execute(postgreSQL_select_Query)\n",
    "print(\"Loading data from Heroku\")\n",
    "\n",
    "data = cursor.fetchall()\n",
    "df = pd.DataFrame(data, columns=['player_id', 'player_name', 'age', 'club_id', \\\n",
    "                                                    'team_from', 'league_from', 'team_to', 'country_of_birth', \\\n",
    "                                                    'country_of_citizenship', 'player_position', 'games', 'goals', \\\n",
    "                                                    'assists', 'hours_played', 'yellow_cards', 'red_cards', 'transfer_fee', \\\n",
    "                                                    'market_value', 'club_market_value', 'season'])\n",
    "Football_df = df.drop(columns=['player_id', 'player_name', 'club_id', 'team_from', 'league_from', 'team_to', 'country_of_birth', 'country_of_citizenship', 'season'])\n",
    "Football_df"
   ]
  },
  {
   "cell_type": "markdown",
   "id": "c4b0fc5c",
   "metadata": {},
   "source": [
    "# Encoding categorical variables\n",
    "#### hours_played converted to float\n",
    "#### player_position to dummie variables"
   ]
  },
  {
   "cell_type": "code",
   "execution_count": 3,
   "id": "e5d16a2b",
   "metadata": {},
   "outputs": [
    {
     "data": {
      "text/plain": [
       "['player_position']"
      ]
     },
     "execution_count": 3,
     "metadata": {},
     "output_type": "execute_result"
    }
   ],
   "source": [
    "Football_df[\"hours_played\"] = pd.to_numeric(Football_df.hours_played, downcast=\"float\")\n",
    "Football_cat= Football_df.dtypes[Football_df.dtypes == \"object\"].index.tolist()\n",
    "Football_cat"
   ]
  },
  {
   "cell_type": "code",
   "execution_count": 4,
   "id": "f4b92572",
   "metadata": {},
   "outputs": [
    {
     "data": {
      "text/html": [
       "<div>\n",
       "<style scoped>\n",
       "    .dataframe tbody tr th:only-of-type {\n",
       "        vertical-align: middle;\n",
       "    }\n",
       "\n",
       "    .dataframe tbody tr th {\n",
       "        vertical-align: top;\n",
       "    }\n",
       "\n",
       "    .dataframe thead th {\n",
       "        text-align: right;\n",
       "    }\n",
       "</style>\n",
       "<table border=\"1\" class=\"dataframe\">\n",
       "  <thead>\n",
       "    <tr style=\"text-align: right;\">\n",
       "      <th></th>\n",
       "      <th>player_position_0</th>\n",
       "      <th>player_position_Attack</th>\n",
       "      <th>player_position_Defender</th>\n",
       "      <th>player_position_Goalkeeper</th>\n",
       "      <th>player_position_Midfield</th>\n",
       "    </tr>\n",
       "  </thead>\n",
       "  <tbody>\n",
       "    <tr>\n",
       "      <th>0</th>\n",
       "      <td>0.0</td>\n",
       "      <td>1.0</td>\n",
       "      <td>0.0</td>\n",
       "      <td>0.0</td>\n",
       "      <td>0.0</td>\n",
       "    </tr>\n",
       "    <tr>\n",
       "      <th>1</th>\n",
       "      <td>0.0</td>\n",
       "      <td>1.0</td>\n",
       "      <td>0.0</td>\n",
       "      <td>0.0</td>\n",
       "      <td>0.0</td>\n",
       "    </tr>\n",
       "    <tr>\n",
       "      <th>2</th>\n",
       "      <td>0.0</td>\n",
       "      <td>0.0</td>\n",
       "      <td>0.0</td>\n",
       "      <td>0.0</td>\n",
       "      <td>1.0</td>\n",
       "    </tr>\n",
       "    <tr>\n",
       "      <th>3</th>\n",
       "      <td>0.0</td>\n",
       "      <td>0.0</td>\n",
       "      <td>0.0</td>\n",
       "      <td>0.0</td>\n",
       "      <td>1.0</td>\n",
       "    </tr>\n",
       "    <tr>\n",
       "      <th>4</th>\n",
       "      <td>0.0</td>\n",
       "      <td>0.0</td>\n",
       "      <td>0.0</td>\n",
       "      <td>1.0</td>\n",
       "      <td>0.0</td>\n",
       "    </tr>\n",
       "  </tbody>\n",
       "</table>\n",
       "</div>"
      ],
      "text/plain": [
       "   player_position_0  player_position_Attack  player_position_Defender  \\\n",
       "0                0.0                     1.0                       0.0   \n",
       "1                0.0                     1.0                       0.0   \n",
       "2                0.0                     0.0                       0.0   \n",
       "3                0.0                     0.0                       0.0   \n",
       "4                0.0                     0.0                       0.0   \n",
       "\n",
       "   player_position_Goalkeeper  player_position_Midfield  \n",
       "0                         0.0                       0.0  \n",
       "1                         0.0                       0.0  \n",
       "2                         0.0                       1.0  \n",
       "3                         0.0                       1.0  \n",
       "4                         1.0                       0.0  "
      ]
     },
     "execution_count": 4,
     "metadata": {},
     "output_type": "execute_result"
    }
   ],
   "source": [
    "# Create a OneHotEncoder instance\n",
    "enc = OneHotEncoder(sparse=False)\n",
    "\n",
    "# Fit and transform the OneHotEncoder using the categorical variable list\n",
    "encode_df = pd.DataFrame(enc.fit_transform(Football_df[Football_cat]))\n",
    "\n",
    "# Add the encoded variable names to the dataframe\n",
    "encode_df.columns = enc.get_feature_names(Football_cat)\n",
    "encode_df.head()"
   ]
  },
  {
   "cell_type": "code",
   "execution_count": 5,
   "id": "83bd4548",
   "metadata": {
    "scrolled": true
   },
   "outputs": [
    {
     "data": {
      "text/html": [
       "<div>\n",
       "<style scoped>\n",
       "    .dataframe tbody tr th:only-of-type {\n",
       "        vertical-align: middle;\n",
       "    }\n",
       "\n",
       "    .dataframe tbody tr th {\n",
       "        vertical-align: top;\n",
       "    }\n",
       "\n",
       "    .dataframe thead th {\n",
       "        text-align: right;\n",
       "    }\n",
       "</style>\n",
       "<table border=\"1\" class=\"dataframe\">\n",
       "  <thead>\n",
       "    <tr style=\"text-align: right;\">\n",
       "      <th></th>\n",
       "      <th>age</th>\n",
       "      <th>games</th>\n",
       "      <th>goals</th>\n",
       "      <th>assists</th>\n",
       "      <th>hours_played</th>\n",
       "      <th>yellow_cards</th>\n",
       "      <th>red_cards</th>\n",
       "      <th>transfer_fee</th>\n",
       "      <th>market_value</th>\n",
       "      <th>club_market_value</th>\n",
       "      <th>player_position_0</th>\n",
       "      <th>player_position_Attack</th>\n",
       "      <th>player_position_Defender</th>\n",
       "      <th>player_position_Goalkeeper</th>\n",
       "      <th>player_position_Midfield</th>\n",
       "    </tr>\n",
       "  </thead>\n",
       "  <tbody>\n",
       "    <tr>\n",
       "      <th>0</th>\n",
       "      <td>25</td>\n",
       "      <td>27</td>\n",
       "      <td>25</td>\n",
       "      <td>16</td>\n",
       "      <td>40.450001</td>\n",
       "      <td>8</td>\n",
       "      <td>0</td>\n",
       "      <td>222000000</td>\n",
       "      <td>100000000</td>\n",
       "      <td>891180000</td>\n",
       "      <td>0.0</td>\n",
       "      <td>1.0</td>\n",
       "      <td>0.0</td>\n",
       "      <td>0.0</td>\n",
       "      <td>0.0</td>\n",
       "    </tr>\n",
       "    <tr>\n",
       "      <th>1</th>\n",
       "      <td>33</td>\n",
       "      <td>43</td>\n",
       "      <td>28</td>\n",
       "      <td>10</td>\n",
       "      <td>60.766701</td>\n",
       "      <td>4</td>\n",
       "      <td>1</td>\n",
       "      <td>117000000</td>\n",
       "      <td>100000000</td>\n",
       "      <td>816530000</td>\n",
       "      <td>0.0</td>\n",
       "      <td>1.0</td>\n",
       "      <td>0.0</td>\n",
       "      <td>0.0</td>\n",
       "      <td>0.0</td>\n",
       "    </tr>\n",
       "    <tr>\n",
       "      <th>2</th>\n",
       "      <td>25</td>\n",
       "      <td>42</td>\n",
       "      <td>21</td>\n",
       "      <td>15</td>\n",
       "      <td>49.883301</td>\n",
       "      <td>1</td>\n",
       "      <td>0</td>\n",
       "      <td>125000000</td>\n",
       "      <td>90000000</td>\n",
       "      <td>604800000</td>\n",
       "      <td>0.0</td>\n",
       "      <td>0.0</td>\n",
       "      <td>0.0</td>\n",
       "      <td>0.0</td>\n",
       "      <td>1.0</td>\n",
       "    </tr>\n",
       "    <tr>\n",
       "      <th>3</th>\n",
       "      <td>22</td>\n",
       "      <td>43</td>\n",
       "      <td>3</td>\n",
       "      <td>6</td>\n",
       "      <td>43.533298</td>\n",
       "      <td>5</td>\n",
       "      <td>0</td>\n",
       "      <td>70000000</td>\n",
       "      <td>65000000</td>\n",
       "      <td>671310000</td>\n",
       "      <td>0.0</td>\n",
       "      <td>0.0</td>\n",
       "      <td>0.0</td>\n",
       "      <td>0.0</td>\n",
       "      <td>1.0</td>\n",
       "    </tr>\n",
       "    <tr>\n",
       "      <th>4</th>\n",
       "      <td>25</td>\n",
       "      <td>51</td>\n",
       "      <td>0</td>\n",
       "      <td>0</td>\n",
       "      <td>76.500000</td>\n",
       "      <td>1</td>\n",
       "      <td>0</td>\n",
       "      <td>62500000</td>\n",
       "      <td>60000000</td>\n",
       "      <td>779850000</td>\n",
       "      <td>0.0</td>\n",
       "      <td>0.0</td>\n",
       "      <td>0.0</td>\n",
       "      <td>1.0</td>\n",
       "      <td>0.0</td>\n",
       "    </tr>\n",
       "  </tbody>\n",
       "</table>\n",
       "</div>"
      ],
      "text/plain": [
       "   age  games  goals  assists  hours_played  yellow_cards  red_cards  \\\n",
       "0   25     27     25       16     40.450001             8          0   \n",
       "1   33     43     28       10     60.766701             4          1   \n",
       "2   25     42     21       15     49.883301             1          0   \n",
       "3   22     43      3        6     43.533298             5          0   \n",
       "4   25     51      0        0     76.500000             1          0   \n",
       "\n",
       "   transfer_fee  market_value  club_market_value  player_position_0  \\\n",
       "0     222000000     100000000          891180000                0.0   \n",
       "1     117000000     100000000          816530000                0.0   \n",
       "2     125000000      90000000          604800000                0.0   \n",
       "3      70000000      65000000          671310000                0.0   \n",
       "4      62500000      60000000          779850000                0.0   \n",
       "\n",
       "   player_position_Attack  player_position_Defender  \\\n",
       "0                     1.0                       0.0   \n",
       "1                     1.0                       0.0   \n",
       "2                     0.0                       0.0   \n",
       "3                     0.0                       0.0   \n",
       "4                     0.0                       0.0   \n",
       "\n",
       "   player_position_Goalkeeper  player_position_Midfield  \n",
       "0                         0.0                       0.0  \n",
       "1                         0.0                       0.0  \n",
       "2                         0.0                       1.0  \n",
       "3                         0.0                       1.0  \n",
       "4                         1.0                       0.0  "
      ]
     },
     "execution_count": 5,
     "metadata": {},
     "output_type": "execute_result"
    }
   ],
   "source": [
    "# Merge one-hot encoded features and drop the originals\n",
    "Football_df = Football_df.merge(encode_df, left_index=True, right_index=True)\n",
    "Football_df.drop(Football_cat,1, inplace=True)\n",
    "Football_df.head()"
   ]
  },
  {
   "cell_type": "code",
   "execution_count": 6,
   "id": "5aa7d02d",
   "metadata": {
    "scrolled": true
   },
   "outputs": [
    {
     "name": "stdout",
     "output_type": "stream",
     "text": [
      "<class 'pandas.core.frame.DataFrame'>\n",
      "RangeIndex: 349 entries, 0 to 348\n",
      "Data columns (total 15 columns):\n",
      " #   Column                      Non-Null Count  Dtype  \n",
      "---  ------                      --------------  -----  \n",
      " 0   age                         349 non-null    int64  \n",
      " 1   games                       349 non-null    int64  \n",
      " 2   goals                       349 non-null    int64  \n",
      " 3   assists                     349 non-null    int64  \n",
      " 4   hours_played                349 non-null    float32\n",
      " 5   yellow_cards                349 non-null    int64  \n",
      " 6   red_cards                   349 non-null    int64  \n",
      " 7   transfer_fee                349 non-null    int64  \n",
      " 8   market_value                349 non-null    int64  \n",
      " 9   club_market_value           349 non-null    int64  \n",
      " 10  player_position_0           349 non-null    float64\n",
      " 11  player_position_Attack      349 non-null    float64\n",
      " 12  player_position_Defender    349 non-null    float64\n",
      " 13  player_position_Goalkeeper  349 non-null    float64\n",
      " 14  player_position_Midfield    349 non-null    float64\n",
      "dtypes: float32(1), float64(5), int64(9)\n",
      "memory usage: 39.7 KB\n"
     ]
    }
   ],
   "source": [
    "Football_df.info()"
   ]
  },
  {
   "cell_type": "markdown",
   "id": "2674e19f",
   "metadata": {},
   "source": [
    "# Distribution of age for each Players"
   ]
  },
  {
   "cell_type": "code",
   "execution_count": 58,
   "id": "d9a4f367",
   "metadata": {
    "scrolled": true
   },
   "outputs": [
    {
     "name": "stderr",
     "output_type": "stream",
     "text": [
      "C:\\Users\\18176\\anaconda3\\envs\\PythonData\\lib\\site-packages\\seaborn\\_decorators.py:43: FutureWarning: Pass the following variable as a keyword arg: x. From version 0.12, the only valid positional argument will be `data`, and passing other arguments without an explicit keyword will result in an error or misinterpretation.\n",
      "  FutureWarning\n"
     ]
    },
    {
     "data": {
      "image/png": "[encoded data removed]",
      "text/plain": [
       "<Figure size 720x576 with 1 Axes>"
      ]
     },
     "metadata": {
      "needs_background": "light"
     },
     "output_type": "display_data"
    }
   ],
   "source": [
    "x = Football_df['age']\n",
    "plt.figure(figsize=(10,8))\n",
    "ax = sns.countplot(x,color='blue')\n",
    "ax.set_xlabel(xlabel = 'Age of the Players', fontsize = 16)\n",
    "ax.set_title(label = 'Distribution of Age of the Players', fontsize = 20)\n",
    "plt.show()\n",
    "fig.savefig(\"Distribution .png\") "
   ]
  },
  {
   "cell_type": "markdown",
   "id": "24cc6622",
   "metadata": {},
   "source": [
    "# Distribution of Age By Market Value and Transfer Fee"
   ]
  },
  {
   "cell_type": "code",
   "execution_count": 54,
   "id": "fbd76984",
   "metadata": {
    "scrolled": false
   },
   "outputs": [
    {
     "data": {
      "image/png": "[encoded data removed]",
      "text/plain": [
       "<Figure size 720x576 with 1 Axes>"
      ]
     },
     "metadata": {
      "needs_background": "light"
     },
     "output_type": "display_data"
    }
   ],
   "source": [
    "overall = pd.DataFrame(Football_df.groupby([\"age\"])['market_value'].mean())\n",
    "Maket_value = pd.DataFrame(Football_df.groupby([\"age\"])['transfer_fee'].mean())\n",
    "\n",
    "merged = pd.merge(overall, Maket_value, on='age', how='inner')\n",
    "merged['age']= merged.index\n",
    "\n",
    "fig, ax = plt.subplots(figsize=(10,8))\n",
    "\n",
    "merged.reset_index(drop = True, inplace = True)\n",
    "\n",
    "plt.plot('age', 'market_value', data=merged, marker='.', color='#00ffff', lw=1, label =\"Overall\" )\n",
    "plt.plot('age', 'transfer_fee', data=merged, marker='+', color='#0000cc', lw=1, label = \"Potential\")\n",
    "plt.xlabel('Overall Rating')\n",
    "plt.ylabel('Average Growth Potential by Age')\n",
    "plt.legend();\n",
    "fig.savefig(\"Distribution of Age By Market Value and Transfer Fee\") "
   ]
  },
  {
   "cell_type": "code",
   "execution_count": null,
   "id": "9dda5a28",
   "metadata": {},
   "outputs": [],
   "source": []
  },
  {
   "cell_type": "markdown",
   "id": "64ef5791",
   "metadata": {},
   "source": [
    "# Correlation plot\n",
    "#### Variables related to market value: transfer_fee, club_market_value, assists, goals, games, hours_played"
   ]
  },
  {
   "cell_type": "code",
   "execution_count": 55,
   "id": "c0b3a4f1",
   "metadata": {},
   "outputs": [
    {
     "name": "stderr",
     "output_type": "stream",
     "text": [
      "C:\\Users\\18176\\anaconda3\\envs\\PythonData\\lib\\site-packages\\seaborn\\distributions.py:2557: FutureWarning: `distplot` is a deprecated function and will be removed in a future version. Please adapt your code to use either `displot` (a figure-level function with similar flexibility) or `histplot` (an axes-level function for histograms).\n",
      "  warnings.warn(msg, FutureWarning)\n"
     ]
    },
    {
     "data": {
      "image/png": "[encoded data removed]",
      "text/plain": [
       "<Figure size 432x288 with 1 Axes>"
      ]
     },
     "metadata": {
      "needs_background": "light"
     },
     "output_type": "display_data"
    }
   ],
   "source": [
    "X = Football_df[['age','games', 'goals','assists','hours_played', 'yellow_cards', \n",
    "          'red_cards', 'transfer_fee', 'club_market_value']]\n",
    "y = np.log1p(Football_df['market_value'])\n",
    "sns.distplot(y,kde=False)\n",
    "fig.savefig(\"Correlation plot\") "
   ]
  },
  {
   "cell_type": "code",
   "execution_count": 10,
   "id": "64fc677a",
   "metadata": {
    "scrolled": false
   },
   "outputs": [
    {
     "data": {
      "image/png": "[encoded data removed]",
      "text/plain": [
       "<Figure size 432x288 with 2 Axes>"
      ]
     },
     "metadata": {
      "needs_background": "light"
     },
     "output_type": "display_data"
    }
   ],
   "source": [
    "features_map = sns.heatmap(Football_df.corr(), cmap=\"seismic\", annot=True, vmin=-1, vmax=1, annot_kws={\"fontsize\":5})\n",
    "fig = features_map.get_figure()\n",
    " "
   ]
  },
  {
   "cell_type": "markdown",
   "id": "701f9b43",
   "metadata": {},
   "source": [
    "# Heat Map"
   ]
  },
  {
   "cell_type": "code",
   "execution_count": 11,
   "id": "8f8b1cf8",
   "metadata": {},
   "outputs": [],
   "source": [
    "\n",
    "#visualizer = Rank2D(algorithm=\"pearson\")\n",
    "#visualizer.fit_transform(Football_df.corr())\n"
   ]
  },
  {
   "cell_type": "code",
   "execution_count": 12,
   "id": "c6e79448",
   "metadata": {},
   "outputs": [
    {
     "data": {
      "text/plain": [
       "<AxesSubplot:>"
      ]
     },
     "execution_count": 12,
     "metadata": {},
     "output_type": "execute_result"
    },
    {
     "data": {
      "image/png": "[encoded data removed]",
      "text/plain": [
       "<Figure size 720x720 with 2 Axes>"
      ]
     },
     "metadata": {
      "needs_background": "light"
     },
     "output_type": "display_data"
    }
   ],
   "source": [
    "Football_df.corr()\n",
    "plt.figure(figsize=(10,10))\n",
    "sns.heatmap(np.abs(Football_df.corr()), annot=True, cmap=\"viridis\", fmt=\"0.2f\")"
   ]
  },
  {
   "cell_type": "code",
   "execution_count": 13,
   "id": "bde66bc7",
   "metadata": {},
   "outputs": [],
   "source": [
    "x, y = Football_df.drop('market_value',axis=1), Football_df['market_value']\n",
    "\n",
    "# hold out 20% of the data for final testing\n",
    "X, X_test, y, y_test = train_test_split(X, y, test_size=.2, random_state=20) "
   ]
  },
  {
   "cell_type": "code",
   "execution_count": 14,
   "id": "ea7019bd",
   "metadata": {},
   "outputs": [],
   "source": [
    "X_train, X_val, y_train, y_val = train_test_split(X, y, test_size=.25, random_state=3)"
   ]
  },
  {
   "cell_type": "code",
   "execution_count": 15,
   "id": "abec5708",
   "metadata": {},
   "outputs": [],
   "source": [
    "#set up the 3 models we're choosing from:\n",
    "\n",
    "lm = LinearRegression()\n",
    "\n",
    "#Feature scaling for train, val, and test so that we can run our ridge model on each\n",
    "scaler = StandardScaler()\n",
    "\n",
    "X_scaled = scaler.fit_transform(X)\n",
    "X_train_scaled = scaler.fit_transform(X_train.values)\n",
    "X_val_scaled = scaler.transform(X_val.values)\n",
    "X_test_scaled = scaler.transform(X_test.values)\n",
    "\n",
    "# Higher alpha = strong regularization strength \n",
    "lm_las = Lasso(alpha=0.01)\n",
    "lm_reg = Ridge(alpha=0.01)\n",
    "\n",
    "#Feature transforms for train, val, and test so that we can run our poly model on each\n",
    "poly = PolynomialFeatures(degree=2) \n",
    "\n",
    "X_train_poly = poly.fit_transform(X_train.values)\n",
    "X_val_poly = poly.transform(X_val.values)\n",
    "X_test_poly = poly.transform(X_test.values)\n",
    "\n",
    "lm_poly = LinearRegression()"
   ]
  },
  {
   "cell_type": "code",
   "execution_count": 16,
   "id": "51ddf12f",
   "metadata": {},
   "outputs": [
    {
     "name": "stderr",
     "output_type": "stream",
     "text": [
      "C:\\Users\\18176\\anaconda3\\envs\\PythonData\\lib\\site-packages\\seaborn\\distributions.py:2557: FutureWarning: `distplot` is a deprecated function and will be removed in a future version. Please adapt your code to use either `displot` (a figure-level function with similar flexibility) or `histplot` (an axes-level function for histograms).\n",
      "  warnings.warn(msg, FutureWarning)\n"
     ]
    },
    {
     "data": {
      "text/plain": [
       "<AxesSubplot:>"
      ]
     },
     "execution_count": 16,
     "metadata": {},
     "output_type": "execute_result"
    },
    {
     "data": {
      "image/png": "[encoded data removed]",
      "text/plain": [
       "<Figure size 1080x360 with 3 Axes>"
      ]
     },
     "metadata": {
      "needs_background": "light"
     },
     "output_type": "display_data"
    }
   ],
   "source": [
    "# Plot histograms of a few transformed variables\n",
    "# Note that they seem to have means of 0 and stddevs of 1\n",
    "fig, axes = plt.subplots(1, 3, figsize=(15, 5))\n",
    "\n",
    "sns.distplot(X_train_scaled[:, 0], label='feature 1', ax=axes[0], kde=False, bins=10, norm_hist=True)\n",
    "sns.distplot(X_train_scaled[:, 1], label='feature 2', ax=axes[1], kde=False, bins=10, norm_hist=True)\n",
    "sns.distplot(X_train_scaled[:, 2], label='feature 3', ax=axes[2], kde=False, bins=10, norm_hist=True)"
   ]
  },
  {
   "cell_type": "code",
   "execution_count": 17,
   "id": "456bb51f",
   "metadata": {},
   "outputs": [
    {
     "name": "stdout",
     "output_type": "stream",
     "text": [
      "Linear Regression Train R^2: 0.816\n",
      "Linear Regression Val R^2: 0.534\n",
      "Linear Regression Test R^2: 0.540\n",
      "\n",
      "Lasso Regression Train R^2: 0.816\n",
      "Lasso Regression Val Scaled R^2: 0.534\n",
      "Lasso Regression Test R^2: 0.540\n",
      "\n",
      "Ridge Regression Train R^2: 0.816\n",
      "Ridge Regression Val Scaled R^2: 0.534\n",
      "Ridge Regression Test R^2: 0.540\n",
      "\n",
      "Degree 2 polynomial regression Train R^2: 0.818\n",
      "Degree 2 polynomial regression Val R^2: 0.221\n",
      "Degree 2 polynomial regression Test R^2: -2.685\n"
     ]
    }
   ],
   "source": [
    "lm.fit(X_train_scaled, y_train)\n",
    "print(f'Linear Regression Train R^2: {lm.score(X_train_scaled, y_train):.3f}')\n",
    "print(f'Linear Regression Val R^2: {lm.score(X_val_scaled, y_val):.3f}')\n",
    "print(f'Linear Regression Test R^2: {lm.score(X_test_scaled, y_test):.3f}\\n')\n",
    "\n",
    "lm_las.fit(X_train_scaled, y_train)\n",
    "\n",
    "print(f'Lasso Regression Train R^2: {lm_las.score(X_train_scaled, y_train):.3f}')\n",
    "print(f'Lasso Regression Val Scaled R^2: {lm_las.score(X_val_scaled, y_val):.3f}')\n",
    "print(f'Lasso Regression Test R^2: {lm_las.score(X_test_scaled, y_test):.3f}\\n')\n",
    "\n",
    "lm_reg.fit(X_train_scaled, y_train)\n",
    "print(f'Ridge Regression Train R^2: {lm_reg.score(X_train_scaled, y_train):.3f}')\n",
    "print(f'Ridge Regression Val Scaled R^2: {lm_reg.score(X_val_scaled, y_val):.3f}')\n",
    "print(f'Ridge Regression Test R^2: {lm_reg.score(X_test_scaled, y_test):.3f}\\n')\n",
    "\n",
    "lm_poly.fit(X_train_poly, y_train)\n",
    "print(f'Degree 2 polynomial regression Train R^2: {lm_poly.score(X_train_poly, y_train):.3f}')\n",
    "print(f'Degree 2 polynomial regression Val R^2: {lm_poly.score(X_val_poly, y_val):.3f}')\n",
    "print(f'Degree 2 polynomial regression Test R^2: {lm_poly.score(X_test_poly, y_test):.3f}')"
   ]
  },
  {
   "cell_type": "code",
   "execution_count": 18,
   "id": "b6641839",
   "metadata": {},
   "outputs": [],
   "source": [
    "#this helps with the way kf will generate indices below\n",
    "X, y = np.array(X), np.array(y)"
   ]
  },
  {
   "cell_type": "code",
   "execution_count": 19,
   "id": "5f6a7ad5",
   "metadata": {},
   "outputs": [
    {
     "name": "stdout",
     "output_type": "stream",
     "text": [
      "Simple regression scores:  [0.6622958307125585, 0.6952591179001522, 0.8364225659550719, 0.7601545617061104, 0.7640051253266487]\n",
      "Lasso scores:  [0.6622958300923698, 0.6952591191130576, 0.8364225662672091, 0.760154562753194, 0.7640051250885271] \n",
      "\n",
      "Ridge scores:  [0.6623053575630861, 0.695272841828066, 0.8364149485358321, 0.7601530258764349, 0.7640132248751903] \n",
      "\n",
      "Polynomial scores: [0.6622958307269693, 0.6952591179621532, 0.8364225659314164, 0.7601545617054072, 0.764005125320258] \n",
      "\n",
      "Lasso mean cv r^2 (TRAIN): 0.744 +- 0.060\n",
      "Lasso mean cv r^2 (VAL): 0.744 +- 0.060\n",
      "Lasso mean RMSE: 6400773.702 +- 433928.373\n",
      "\n",
      "Ridge mean cv r^2 (TRAIN): 0.744 +- 0.060\n",
      "Ridge mean cv r^2 (VAL): 0.744 +- 0.060\n",
      "Ridge mean RMSE: 6400737.070 +- 433897.016\n",
      "\n",
      "Polynomial mean cv r^2 (TRAIN): 0.744 +- 0.060\n",
      "Polynomial mean cv r^2 (VAL): 0.744 +- 0.060\n",
      "Polynomial mean RMSE: 6400773.707 +- 433928.367\n",
      "\n",
      "Simple mean cv r^2 (TRAIN): 0.784 +- 0.014\n",
      "Simple mean cv r^2 (VAL): 0.744 +- 0.060\n",
      "Simple mean RMSE: 6400773.707 +- 433928.367\n"
     ]
    }
   ],
   "source": [
    "#run the CV\n",
    "\n",
    "kf = KFold(n_splits=5, shuffle=True, random_state = 71)\n",
    "cv_lm_train_r2s, cv_lm_val_r2s, cv_lm_las_train_r2s, cv_lm_las_val_r2s, cv_lm_reg_train_r2s, cv_lm_reg_val_r2s, cv_lm_poly_train_r2s, cv_lm_poly_val_r2s, rmses, rmses_las, rmses_reg, rmses_poly = [], [], [], [], [], [], [], [], [], [], [], [] #collect the validation results for models\n",
    "\n",
    "for train_ind, val_ind in kf.split(X,y):\n",
    "    \n",
    "    X_train, y_train = X[train_ind], y[train_ind]\n",
    "    X_val, y_val = X[val_ind], y[val_ind] \n",
    "    \n",
    "    #simple linear regression\n",
    "    lm.fit(X_train, y_train)\n",
    "    cv_lm_train_r2s.append(lm.score(X_train, y_train))\n",
    "    cv_lm_val_r2s.append(lm.score(X_val, y_val))\n",
    "\n",
    "    lm_rmse = mean_squared_error(y_val, lm.predict(X_val), squared=False)\n",
    "    rmses.append(lm_rmse)\n",
    "\n",
    "    # setup for ridge, lasso, and polynomial\n",
    "    X_train_scaled = scaler.fit_transform(X_train)\n",
    "    X_val_scaled = scaler.transform(X_val)\n",
    "\n",
    "    #lass with feature scaling \n",
    "    lm_las.fit(X_train_scaled, y_train)\n",
    "    cv_lm_las_train_r2s.append(lm_las.score(X_val_scaled,y_val))\n",
    "    cv_lm_las_val_r2s.append(lm_las.score(X_val_scaled, y_val))\n",
    "\n",
    "    lm_las_rmse = mean_squared_error(y_val, lm_las.predict(X_val_scaled), squared=False)\n",
    "    rmses_las.append(lm_las_rmse)\n",
    "\n",
    "    #ridge with feature scaling\n",
    "    lm_reg.fit(X_train_scaled, y_train)\n",
    "    cv_lm_reg_train_r2s.append(lm_reg.score(X_val_scaled,y_val))\n",
    "    cv_lm_reg_val_r2s.append(lm_reg.score(X_val_scaled, y_val))\n",
    "\n",
    "    lm_reg_rmse = mean_squared_error(y_val, lm_reg.predict(X_val_scaled), squared=False)\n",
    "    rmses_reg.append(lm_reg_rmse)\n",
    "\n",
    "    #polynomial with feature scaling\n",
    "    lm_poly.fit(X_train_scaled, y_train)\n",
    "    cv_lm_poly_train_r2s.append(lm_las.score(X_val_scaled,y_val))\n",
    "    cv_lm_poly_val_r2s.append(lm_poly.score(X_val_scaled, y_val))\n",
    "\n",
    "    lm_poly_rmse = mean_squared_error(y_val, lm_poly.predict(X_val_scaled), squared=False)\n",
    "    rmses_poly.append(lm_poly_rmse)\n",
    "\n",
    "print('Simple regression scores: ', cv_lm_val_r2s)\n",
    "print('Lasso scores: ', cv_lm_las_val_r2s, '\\n')\n",
    "print('Ridge scores: ', cv_lm_reg_val_r2s, '\\n')\n",
    "print('Polynomial scores:', cv_lm_poly_val_r2s, '\\n')\n",
    "\n",
    "print(f'Lasso mean cv r^2 (TRAIN): {np.mean(cv_lm_las_train_r2s):.3f} +- {np.std(cv_lm_las_train_r2s):.3f}')\n",
    "print(f'Lasso mean cv r^2 (VAL): {np.mean(cv_lm_las_val_r2s):.3f} +- {np.std(cv_lm_las_val_r2s):.3f}')\n",
    "print(f'Lasso mean RMSE: {np.mean(rmses_las):.3f} +- {np.std(rmses_las):.3f}\\n')\n",
    "\n",
    "print(f'Ridge mean cv r^2 (TRAIN): {np.mean(cv_lm_reg_train_r2s):.3f} +- {np.std(cv_lm_reg_train_r2s):.3f}')\n",
    "print(f'Ridge mean cv r^2 (VAL): {np.mean(cv_lm_reg_val_r2s):.3f} +- {np.std(cv_lm_reg_val_r2s):.3f}')\n",
    "print(f'Ridge mean RMSE: {np.mean(rmses_reg):.3f} +- {np.std(rmses_reg):.3f}\\n')\n",
    "\n",
    "print(f'Polynomial mean cv r^2 (TRAIN): {np.mean(cv_lm_poly_train_r2s):.3f} +- {np.std(cv_lm_poly_train_r2s):.3f}')\n",
    "print(f'Polynomial mean cv r^2 (VAL): {np.mean(cv_lm_poly_val_r2s):.3f} +- {np.std(cv_lm_poly_val_r2s):.3f}')\n",
    "print(f'Polynomial mean RMSE: {np.mean(rmses_poly):.3f} +- {np.std(rmses_poly):.3f}\\n')\n",
    "\n",
    "print(f'Simple mean cv r^2 (TRAIN): {np.mean(cv_lm_train_r2s):.3f} +- {np.std(cv_lm_train_r2s):.3f}')\n",
    "print(f'Simple mean cv r^2 (VAL): {np.mean(cv_lm_val_r2s):.3f} +- {np.std(cv_lm_val_r2s):.3f}')\n",
    "print(f'Simple mean RMSE: {np.mean(rmses):.3f} +- {np.std(rmses):.3f}')"
   ]
  },
  {
   "cell_type": "code",
   "execution_count": 20,
   "id": "28092275",
   "metadata": {},
   "outputs": [
    {
     "data": {
      "text/plain": [
       "[('age', 446922.64362283004),\n",
       " ('games', 1463009.6190890956),\n",
       " ('goals', -161802.19681177143),\n",
       " ('assists', 396312.768357952),\n",
       " ('hours_played', -1221944.2409034772),\n",
       " ('yellow_cards', 882315.5456436739),\n",
       " ('red_cards', 730411.7676142165),\n",
       " ('transfer_fee', 10427589.243879382),\n",
       " ('market_value', 808468.1513093894)]"
      ]
     },
     "execution_count": 20,
     "metadata": {},
     "output_type": "execute_result"
    }
   ],
   "source": [
    "list(zip(Football_df.columns[:-1],lm_las.coef_))"
   ]
  },
  {
   "cell_type": "code",
   "execution_count": 21,
   "id": "82945bed",
   "metadata": {},
   "outputs": [
    {
     "data": {
      "text/plain": [
       "[('age', 446970.3324630296),\n",
       " ('games', 1462349.1213321746),\n",
       " ('goals', -161685.30294538155),\n",
       " ('assists', 396344.27502113784),\n",
       " ('hours_played', -1221186.4068248572),\n",
       " ('yellow_cards', 882124.6831846063),\n",
       " ('red_cards', 730445.0949784181),\n",
       " ('transfer_fee', 10426910.93500779),\n",
       " ('market_value', 808767.0014507018)]"
      ]
     },
     "execution_count": 21,
     "metadata": {},
     "output_type": "execute_result"
    }
   ],
   "source": [
    "list(zip(Football_df.columns[:-1],lm_reg.coef_))"
   ]
  },
  {
   "cell_type": "code",
   "execution_count": 22,
   "id": "975caae9",
   "metadata": {},
   "outputs": [
    {
     "data": {
      "text/plain": [
       "382044784632672.75"
      ]
     },
     "execution_count": 22,
     "metadata": {},
     "output_type": "execute_result"
    }
   ],
   "source": [
    "test_set_pred = lm_las.predict(X_test)\n",
    "\n",
    "#Mean Absolute Error (MAE)\n",
    "def mae(y_true, y_pred):\n",
    "    return np.mean(np.abs(y_pred - y_true)) \n",
    "\n",
    "mae(y_test, test_set_pred)"
   ]
  },
  {
   "cell_type": "code",
   "execution_count": 23,
   "id": "990fba38",
   "metadata": {},
   "outputs": [],
   "source": [
    "alphalist = 10**(np.linspace(-2,2,200))\n",
    "err_vec_val = np.zeros(len(alphalist))\n",
    "err_vec_train = np.zeros(len(alphalist))\n",
    "\n",
    "for i,curr_alpha in enumerate(alphalist):\n",
    "\n",
    "    # note the use of a new sklearn utility: Pipeline to pack\n",
    "    # multiple modeling steps into one fitting process \n",
    "    steps = [('standardize', StandardScaler()), \n",
    "             ('lasso', Lasso(alpha = curr_alpha))]\n",
    "\n",
    "    pipe = Pipeline(steps)\n",
    "    pipe.fit(X_train, y_train)\n",
    "    \n",
    "    val_set_pred = pipe.predict(X_val)\n",
    "    err_vec_val[i] = mae(y_val, val_set_pred)"
   ]
  },
  {
   "cell_type": "code",
   "execution_count": 24,
   "id": "f9dbfc1f",
   "metadata": {},
   "outputs": [
    {
     "data": {
      "text/plain": [
       "[<matplotlib.lines.Line2D at 0x1e01622c6c8>]"
      ]
     },
     "execution_count": 24,
     "metadata": {},
     "output_type": "execute_result"
    },
    {
     "data": {
      "image/png": "[encoded data removed]",
      "text/plain": [
       "<Figure size 432x288 with 1 Axes>"
      ]
     },
     "metadata": {
      "needs_background": "light"
     },
     "output_type": "display_data"
    }
   ],
   "source": [
    "#plot the curve of validation error as alpha changes\n",
    "\n",
    "plt.plot(np.log10(alphalist), err_vec_val)"
   ]
  },
  {
   "cell_type": "code",
   "execution_count": 25,
   "id": "0ec4eb3b",
   "metadata": {},
   "outputs": [
    {
     "data": {
      "text/plain": [
       "5005439.645675156"
      ]
     },
     "execution_count": 25,
     "metadata": {},
     "output_type": "execute_result"
    }
   ],
   "source": [
    "## This is the minimum error achieved on the validation set \n",
    "## across the different alpha values we tried\n",
    "\n",
    "np.min(err_vec_val)"
   ]
  },
  {
   "cell_type": "code",
   "execution_count": 26,
   "id": "26514b8b",
   "metadata": {},
   "outputs": [
    {
     "data": {
      "text/plain": [
       "0.01"
      ]
     },
     "execution_count": 26,
     "metadata": {},
     "output_type": "execute_result"
    }
   ],
   "source": [
    "## This is the value of alpha that gave us the lowest error\n",
    "alphalist[np.argmin(err_vec_val)]"
   ]
  },
  {
   "cell_type": "code",
   "execution_count": 27,
   "id": "d1a8ffc7",
   "metadata": {},
   "outputs": [],
   "source": [
    "alphalist = 10**(np.linspace(-2,2,200))\n",
    "err_vec_val = np.zeros(len(alphalist))\n",
    "err_vec_train = np.zeros(len(alphalist))\n",
    "\n",
    "for i,curr_alpha in enumerate(alphalist):\n",
    "\n",
    "    # note the use of a new sklearn utility: Pipeline to pack\n",
    "    # multiple modeling steps into one fitting process \n",
    "    steps = [('standardize', StandardScaler()), \n",
    "             ('Ridge', Ridge(alpha = curr_alpha))]\n",
    "\n",
    "    pipe = Pipeline(steps)\n",
    "    pipe.fit(X_train, y_train)\n",
    "    \n",
    "    val_set_pred = pipe.predict(X_val)\n",
    "    err_vec_val[i] = mae(y_val, val_set_pred)"
   ]
  },
  {
   "cell_type": "code",
   "execution_count": 28,
   "id": "b392cf0e",
   "metadata": {},
   "outputs": [
    {
     "data": {
      "text/plain": [
       "4998980.6962934425"
      ]
     },
     "execution_count": 28,
     "metadata": {},
     "output_type": "execute_result"
    }
   ],
   "source": [
    "## This is the minimum error achieved on the validation set \n",
    "## across the different alpha values we tried\n",
    "\n",
    "np.min(err_vec_val)"
   ]
  },
  {
   "cell_type": "code",
   "execution_count": 29,
   "id": "c0cc0d56",
   "metadata": {},
   "outputs": [
    {
     "data": {
      "text/plain": [
       "LassoCV(alphas=array([1.00000000e-02, 1.04737090e-02, 1.09698580e-02, 1.14895100e-02,\n",
       "       1.20337784e-02, 1.26038293e-02, 1.32008840e-02, 1.38262217e-02,\n",
       "       1.44811823e-02, 1.51671689e-02, 1.58856513e-02, 1.66381689e-02,\n",
       "       1.74263339e-02, 1.82518349e-02, 1.91164408e-02, 2.00220037e-02,\n",
       "       2.09704640e-02, 2.19638537e-02, 2.30043012e-02, 2.40940356e-02,\n",
       "       2.52353917e-02, 2.64308149e-0...\n",
       "       3.44896226e+01, 3.61234270e+01, 3.78346262e+01, 3.96268864e+01,\n",
       "       4.15040476e+01, 4.34701316e+01, 4.55293507e+01, 4.76861170e+01,\n",
       "       4.99450512e+01, 5.23109931e+01, 5.47890118e+01, 5.73844165e+01,\n",
       "       6.01027678e+01, 6.29498899e+01, 6.59318827e+01, 6.90551352e+01,\n",
       "       7.23263390e+01, 7.57525026e+01, 7.93409667e+01, 8.30994195e+01,\n",
       "       8.70359136e+01, 9.11588830e+01, 9.54771611e+01, 1.00000000e+02]),\n",
       "        cv=5)"
      ]
     },
     "execution_count": 29,
     "metadata": {},
     "output_type": "execute_result"
    }
   ],
   "source": [
    "# Run the cross validation, find the best alpha, refit the model on all the data with that alpha\n",
    "\n",
    "alphavec = 10**np.linspace(-2,2,200)\n",
    "\n",
    "lm_las_CV = LassoCV(alphas = alphavec, cv=5)\n",
    "lm_las_CV.fit(X_train_scaled, y_train)"
   ]
  },
  {
   "cell_type": "code",
   "execution_count": 30,
   "id": "6b0454f4",
   "metadata": {},
   "outputs": [
    {
     "data": {
      "text/plain": [
       "100.0"
      ]
     },
     "execution_count": 30,
     "metadata": {},
     "output_type": "execute_result"
    }
   ],
   "source": [
    "# This is the best alpha value it found - higher from the value\n",
    "# selected using simple validation\n",
    "lm_las_CV.alpha_"
   ]
  },
  {
   "cell_type": "code",
   "execution_count": 31,
   "id": "be55bc12",
   "metadata": {},
   "outputs": [
    {
     "data": {
      "text/plain": [
       "RidgeCV(alphas=array([1.00000000e-02, 1.04737090e-02, 1.09698580e-02, 1.14895100e-02,\n",
       "       1.20337784e-02, 1.26038293e-02, 1.32008840e-02, 1.38262217e-02,\n",
       "       1.44811823e-02, 1.51671689e-02, 1.58856513e-02, 1.66381689e-02,\n",
       "       1.74263339e-02, 1.82518349e-02, 1.91164408e-02, 2.00220037e-02,\n",
       "       2.09704640e-02, 2.19638537e-02, 2.30043012e-02, 2.40940356e-02,\n",
       "       2.52353917e-02, 2.64308149e-0...\n",
       "       3.44896226e+01, 3.61234270e+01, 3.78346262e+01, 3.96268864e+01,\n",
       "       4.15040476e+01, 4.34701316e+01, 4.55293507e+01, 4.76861170e+01,\n",
       "       4.99450512e+01, 5.23109931e+01, 5.47890118e+01, 5.73844165e+01,\n",
       "       6.01027678e+01, 6.29498899e+01, 6.59318827e+01, 6.90551352e+01,\n",
       "       7.23263390e+01, 7.57525026e+01, 7.93409667e+01, 8.30994195e+01,\n",
       "       8.70359136e+01, 9.11588830e+01, 9.54771611e+01, 1.00000000e+02]),\n",
       "        cv=5)"
      ]
     },
     "execution_count": 31,
     "metadata": {},
     "output_type": "execute_result"
    }
   ],
   "source": [
    "# Run the cross validation, find the best alpha, refit the model on all the data with that alpha\n",
    "\n",
    "alphavec = 10**np.linspace(-2,2,200)\n",
    "\n",
    "lm_reg_CV = RidgeCV(alphas = alphavec, cv=5)\n",
    "lm_reg_CV.fit(X_train_scaled, y_train)"
   ]
  },
  {
   "cell_type": "code",
   "execution_count": 32,
   "id": "535476ee",
   "metadata": {},
   "outputs": [
    {
     "data": {
      "text/plain": [
       "9.884959046625585"
      ]
     },
     "execution_count": 32,
     "metadata": {},
     "output_type": "execute_result"
    }
   ],
   "source": [
    "# This is the best alpha value it found - higher from the value\n",
    "# selected using simple validation\n",
    "lm_reg_CV.alpha_"
   ]
  },
  {
   "cell_type": "code",
   "execution_count": 33,
   "id": "14968823",
   "metadata": {
    "scrolled": true
   },
   "outputs": [
    {
     "data": {
      "text/plain": [
       "Text(0, 0.5, 'Actual Values')"
      ]
     },
     "execution_count": 33,
     "metadata": {},
     "output_type": "execute_result"
    },
    {
     "data": {
      "image/png": "[encoded data removed]",
      "text/plain": [
       "<Figure size 720x504 with 1 Axes>"
      ]
     },
     "metadata": {
      "needs_background": "light"
     },
     "output_type": "display_data"
    }
   ],
   "source": [
    "lm_predict = lm.predict(X_test)\n",
    "\n",
    "plt.figure(figsize=(10,7))\n",
    "plt.scatter(lm_predict, y_test)\n",
    "ax = plt.gca()\n",
    "\n",
    "z = np.polyfit(lm_predict, y_test, 1)\n",
    "p = np.poly1d(z)\n",
    "plb.plot(lm_predict, p(lm_predict), \"m-\")\n",
    "\n",
    "plt.xlim(0,35)\n",
    "plt.ylim(0,35)\n",
    "\n",
    "plt.title('Linear Regression Model: Actual vs. Predicted', fontsize=20)\n",
    "plt.xlabel('Predicted Values', fontsize=16)\n",
    "plt.ylabel('Actual Values', fontsize=16)"
   ]
  },
  {
   "cell_type": "code",
   "execution_count": 34,
   "id": "e050e5fc",
   "metadata": {},
   "outputs": [
    {
     "data": {
      "text/plain": [
       "Text(0, 0.5, 'Actual Values')"
      ]
     },
     "execution_count": 34,
     "metadata": {},
     "output_type": "execute_result"
    },
    {
     "data": {
      "image/png": "[encoded data removed]",
      "text/plain": [
       "<Figure size 720x504 with 1 Axes>"
      ]
     },
     "metadata": {
      "needs_background": "light"
     },
     "output_type": "display_data"
    }
   ],
   "source": [
    "lm_las_predict = lm_las.predict(X_test)\n",
    "\n",
    "plt.figure(figsize=(10,7))\n",
    "plt.scatter(lm_las_predict, y_test)\n",
    "\n",
    "z = np.polyfit(lm_las_predict, y_test, 1)\n",
    "p = np.poly1d(z)\n",
    "plb.plot(lm_las_predict, p(lm_las_predict), \"m-\")\n",
    "\n",
    "plt.xlim(0,80)\n",
    "plt.ylim(0,80)\n",
    "\n",
    "plt.title('Lasso Regression Model: Actual vs. Predicted', fontsize=20)\n",
    "plt.xlabel('Predicted Values', fontsize=16)\n",
    "plt.ylabel('Actual Values', fontsize=16)"
   ]
  },
  {
   "cell_type": "code",
   "execution_count": 35,
   "id": "6b0453d8",
   "metadata": {},
   "outputs": [
    {
     "data": {
      "text/plain": [
       "Text(0, 0.5, 'Actual Values')"
      ]
     },
     "execution_count": 35,
     "metadata": {},
     "output_type": "execute_result"
    },
    {
     "data": {
      "image/png": "[encoded data removed]",
      "text/plain": [
       "<Figure size 720x504 with 1 Axes>"
      ]
     },
     "metadata": {
      "needs_background": "light"
     },
     "output_type": "display_data"
    }
   ],
   "source": [
    "lm_reg_predict = lm_reg.predict(X_test)\n",
    "\n",
    "plt.figure(figsize=(10,7))\n",
    "plt.scatter(lm_reg_predict, y_test)\n",
    "\n",
    "z = np.polyfit(lm_reg_predict, y_test, 1)\n",
    "p = np.poly1d(z)\n",
    "plb.plot(lm_reg_predict, p(lm_reg_predict), \"m-\")\n",
    "\n",
    "plt.xlim(0,75)\n",
    "plt.ylim(0,75)\n",
    "\n",
    "plt.title('Ridge Regression Model: Actual vs. Predicted', fontsize=20)\n",
    "plt.xlabel('Predicted Values', fontsize=16)\n",
    "plt.ylabel('Actual Values', fontsize=16)"
   ]
  },
  {
   "cell_type": "code",
   "execution_count": 36,
   "id": "a552387b",
   "metadata": {},
   "outputs": [
    {
     "data": {
      "text/plain": [
       "Text(0, 0.5, 'Actual Values')"
      ]
     },
     "execution_count": 36,
     "metadata": {},
     "output_type": "execute_result"
    },
    {
     "data": {
      "image/png": "[encoded data removed]",
      "text/plain": [
       "<Figure size 720x504 with 1 Axes>"
      ]
     },
     "metadata": {
      "needs_background": "light"
     },
     "output_type": "display_data"
    }
   ],
   "source": [
    "lm_poly_predict = lm_poly.predict(X_test)\n",
    "\n",
    "plt.figure(figsize=(10,7))\n",
    "plt.scatter(lm_poly_predict, y_test)\n",
    "\n",
    "z = np.polyfit(lm_poly_predict, y_test, 1)\n",
    "p = np.poly1d(z)\n",
    "plb.plot(lm_poly_predict, p(lm_poly_predict), \"m-\")\n",
    "\n",
    "plt.xlim(0,75)\n",
    "plt.ylim(0,75)\n",
    "\n",
    "plt.title('Polynomial Regression Model: Actual vs. Predicted', fontsize=20)\n",
    "plt.xlabel('Predicted Values', fontsize=16)\n",
    "plt.ylabel('Actual Values', fontsize=16)"
   ]
  },
  {
   "cell_type": "code",
   "execution_count": 37,
   "id": "4fe0fb4f",
   "metadata": {},
   "outputs": [
    {
     "data": {
      "text/html": [
       "<div>\n",
       "<style scoped>\n",
       "    .dataframe tbody tr th:only-of-type {\n",
       "        vertical-align: middle;\n",
       "    }\n",
       "\n",
       "    .dataframe tbody tr th {\n",
       "        vertical-align: top;\n",
       "    }\n",
       "\n",
       "    .dataframe thead th {\n",
       "        text-align: right;\n",
       "    }\n",
       "</style>\n",
       "<table border=\"1\" class=\"dataframe\">\n",
       "  <thead>\n",
       "    <tr style=\"text-align: right;\">\n",
       "      <th></th>\n",
       "      <th>age</th>\n",
       "      <th>games</th>\n",
       "      <th>goals</th>\n",
       "      <th>assists</th>\n",
       "      <th>hours_played</th>\n",
       "      <th>yellow_cards</th>\n",
       "      <th>red_cards</th>\n",
       "      <th>transfer_fee</th>\n",
       "      <th>market_value</th>\n",
       "      <th>club_market_value</th>\n",
       "      <th>player_position_0</th>\n",
       "      <th>player_position_Attack</th>\n",
       "      <th>player_position_Defender</th>\n",
       "      <th>player_position_Goalkeeper</th>\n",
       "      <th>player_position_Midfield</th>\n",
       "      <th>Tested_Market_Value</th>\n",
       "      <th>Predicted_Market_Value</th>\n",
       "    </tr>\n",
       "  </thead>\n",
       "  <tbody>\n",
       "    <tr>\n",
       "      <th>0</th>\n",
       "      <td>25</td>\n",
       "      <td>27</td>\n",
       "      <td>25</td>\n",
       "      <td>16</td>\n",
       "      <td>40.450001</td>\n",
       "      <td>8</td>\n",
       "      <td>0</td>\n",
       "      <td>222000000</td>\n",
       "      <td>100000000</td>\n",
       "      <td>891180000</td>\n",
       "      <td>0.0</td>\n",
       "      <td>1.0</td>\n",
       "      <td>0.0</td>\n",
       "      <td>0.0</td>\n",
       "      <td>0.0</td>\n",
       "      <td>100000000.0</td>\n",
       "      <td>2.895191e+07</td>\n",
       "    </tr>\n",
       "    <tr>\n",
       "      <th>7</th>\n",
       "      <td>29</td>\n",
       "      <td>23</td>\n",
       "      <td>7</td>\n",
       "      <td>5</td>\n",
       "      <td>26.916700</td>\n",
       "      <td>9</td>\n",
       "      <td>0</td>\n",
       "      <td>66000000</td>\n",
       "      <td>50000000</td>\n",
       "      <td>671310000</td>\n",
       "      <td>0.0</td>\n",
       "      <td>1.0</td>\n",
       "      <td>0.0</td>\n",
       "      <td>0.0</td>\n",
       "      <td>0.0</td>\n",
       "      <td>50000000.0</td>\n",
       "      <td>5.953596e+06</td>\n",
       "    </tr>\n",
       "    <tr>\n",
       "      <th>13</th>\n",
       "      <td>24</td>\n",
       "      <td>1</td>\n",
       "      <td>0</td>\n",
       "      <td>0</td>\n",
       "      <td>1.500000</td>\n",
       "      <td>0</td>\n",
       "      <td>0</td>\n",
       "      <td>45000000</td>\n",
       "      <td>45000000</td>\n",
       "      <td>7810000</td>\n",
       "      <td>0.0</td>\n",
       "      <td>0.0</td>\n",
       "      <td>0.0</td>\n",
       "      <td>0.0</td>\n",
       "      <td>1.0</td>\n",
       "      <td>45000000.0</td>\n",
       "      <td>4.847222e+06</td>\n",
       "    </tr>\n",
       "    <tr>\n",
       "      <th>14</th>\n",
       "      <td>30</td>\n",
       "      <td>36</td>\n",
       "      <td>7</td>\n",
       "      <td>3</td>\n",
       "      <td>40.716702</td>\n",
       "      <td>3</td>\n",
       "      <td>0</td>\n",
       "      <td>38000000</td>\n",
       "      <td>45000000</td>\n",
       "      <td>56320000</td>\n",
       "      <td>0.0</td>\n",
       "      <td>0.0</td>\n",
       "      <td>0.0</td>\n",
       "      <td>0.0</td>\n",
       "      <td>1.0</td>\n",
       "      <td>45000000.0</td>\n",
       "      <td>3.161114e+06</td>\n",
       "    </tr>\n",
       "    <tr>\n",
       "      <th>28</th>\n",
       "      <td>25</td>\n",
       "      <td>38</td>\n",
       "      <td>9</td>\n",
       "      <td>5</td>\n",
       "      <td>52.383301</td>\n",
       "      <td>3</td>\n",
       "      <td>0</td>\n",
       "      <td>38000000</td>\n",
       "      <td>30000000</td>\n",
       "      <td>280170000</td>\n",
       "      <td>0.0</td>\n",
       "      <td>1.0</td>\n",
       "      <td>0.0</td>\n",
       "      <td>0.0</td>\n",
       "      <td>0.0</td>\n",
       "      <td>30000000.0</td>\n",
       "      <td>8.373183e+06</td>\n",
       "    </tr>\n",
       "    <tr>\n",
       "      <th>47</th>\n",
       "      <td>18</td>\n",
       "      <td>23</td>\n",
       "      <td>0</td>\n",
       "      <td>2</td>\n",
       "      <td>32.683300</td>\n",
       "      <td>6</td>\n",
       "      <td>0</td>\n",
       "      <td>18500000</td>\n",
       "      <td>25000000</td>\n",
       "      <td>17980000</td>\n",
       "      <td>0.0</td>\n",
       "      <td>0.0</td>\n",
       "      <td>1.0</td>\n",
       "      <td>0.0</td>\n",
       "      <td>0.0</td>\n",
       "      <td>25000000.0</td>\n",
       "      <td>9.205322e+06</td>\n",
       "    </tr>\n",
       "    <tr>\n",
       "      <th>53</th>\n",
       "      <td>31</td>\n",
       "      <td>37</td>\n",
       "      <td>1</td>\n",
       "      <td>1</td>\n",
       "      <td>47.466702</td>\n",
       "      <td>6</td>\n",
       "      <td>0</td>\n",
       "      <td>17000000</td>\n",
       "      <td>20000000</td>\n",
       "      <td>32560000</td>\n",
       "      <td>0.0</td>\n",
       "      <td>0.0</td>\n",
       "      <td>0.0</td>\n",
       "      <td>0.0</td>\n",
       "      <td>1.0</td>\n",
       "      <td>20000000.0</td>\n",
       "      <td>1.791340e+07</td>\n",
       "    </tr>\n",
       "    <tr>\n",
       "      <th>56</th>\n",
       "      <td>24</td>\n",
       "      <td>37</td>\n",
       "      <td>2</td>\n",
       "      <td>8</td>\n",
       "      <td>53.733299</td>\n",
       "      <td>7</td>\n",
       "      <td>0</td>\n",
       "      <td>22000000</td>\n",
       "      <td>20000000</td>\n",
       "      <td>493290000</td>\n",
       "      <td>0.0</td>\n",
       "      <td>0.0</td>\n",
       "      <td>1.0</td>\n",
       "      <td>0.0</td>\n",
       "      <td>0.0</td>\n",
       "      <td>20000000.0</td>\n",
       "      <td>1.362218e+07</td>\n",
       "    </tr>\n",
       "    <tr>\n",
       "      <th>61</th>\n",
       "      <td>28</td>\n",
       "      <td>29</td>\n",
       "      <td>7</td>\n",
       "      <td>6</td>\n",
       "      <td>32.483299</td>\n",
       "      <td>2</td>\n",
       "      <td>0</td>\n",
       "      <td>22500000</td>\n",
       "      <td>20000000</td>\n",
       "      <td>229680000</td>\n",
       "      <td>0.0</td>\n",
       "      <td>1.0</td>\n",
       "      <td>0.0</td>\n",
       "      <td>0.0</td>\n",
       "      <td>0.0</td>\n",
       "      <td>20000000.0</td>\n",
       "      <td>6.564428e+06</td>\n",
       "    </tr>\n",
       "    <tr>\n",
       "      <th>63</th>\n",
       "      <td>19</td>\n",
       "      <td>38</td>\n",
       "      <td>0</td>\n",
       "      <td>0</td>\n",
       "      <td>56.250000</td>\n",
       "      <td>2</td>\n",
       "      <td>0</td>\n",
       "      <td>8500000</td>\n",
       "      <td>18000000</td>\n",
       "      <td>83120000</td>\n",
       "      <td>0.0</td>\n",
       "      <td>0.0</td>\n",
       "      <td>0.0</td>\n",
       "      <td>1.0</td>\n",
       "      <td>0.0</td>\n",
       "      <td>18000000.0</td>\n",
       "      <td>1.388846e+07</td>\n",
       "    </tr>\n",
       "  </tbody>\n",
       "</table>\n",
       "</div>"
      ],
      "text/plain": [
       "    age  games  goals  assists  hours_played  yellow_cards  red_cards  \\\n",
       "0    25     27     25       16     40.450001             8          0   \n",
       "7    29     23      7        5     26.916700             9          0   \n",
       "13   24      1      0        0      1.500000             0          0   \n",
       "14   30     36      7        3     40.716702             3          0   \n",
       "28   25     38      9        5     52.383301             3          0   \n",
       "47   18     23      0        2     32.683300             6          0   \n",
       "53   31     37      1        1     47.466702             6          0   \n",
       "56   24     37      2        8     53.733299             7          0   \n",
       "61   28     29      7        6     32.483299             2          0   \n",
       "63   19     38      0        0     56.250000             2          0   \n",
       "\n",
       "    transfer_fee  market_value  club_market_value  player_position_0  \\\n",
       "0      222000000     100000000          891180000                0.0   \n",
       "7       66000000      50000000          671310000                0.0   \n",
       "13      45000000      45000000            7810000                0.0   \n",
       "14      38000000      45000000           56320000                0.0   \n",
       "28      38000000      30000000          280170000                0.0   \n",
       "47      18500000      25000000           17980000                0.0   \n",
       "53      17000000      20000000           32560000                0.0   \n",
       "56      22000000      20000000          493290000                0.0   \n",
       "61      22500000      20000000          229680000                0.0   \n",
       "63       8500000      18000000           83120000                0.0   \n",
       "\n",
       "    player_position_Attack  player_position_Defender  \\\n",
       "0                      1.0                       0.0   \n",
       "7                      1.0                       0.0   \n",
       "13                     0.0                       0.0   \n",
       "14                     0.0                       0.0   \n",
       "28                     1.0                       0.0   \n",
       "47                     0.0                       1.0   \n",
       "53                     0.0                       0.0   \n",
       "56                     0.0                       1.0   \n",
       "61                     1.0                       0.0   \n",
       "63                     0.0                       0.0   \n",
       "\n",
       "    player_position_Goalkeeper  player_position_Midfield  Tested_Market_Value  \\\n",
       "0                          0.0                       0.0          100000000.0   \n",
       "7                          0.0                       0.0           50000000.0   \n",
       "13                         0.0                       1.0           45000000.0   \n",
       "14                         0.0                       1.0           45000000.0   \n",
       "28                         0.0                       0.0           30000000.0   \n",
       "47                         0.0                       0.0           25000000.0   \n",
       "53                         0.0                       1.0           20000000.0   \n",
       "56                         0.0                       0.0           20000000.0   \n",
       "61                         0.0                       0.0           20000000.0   \n",
       "63                         1.0                       0.0           18000000.0   \n",
       "\n",
       "    Predicted_Market_Value  \n",
       "0             2.895191e+07  \n",
       "7             5.953596e+06  \n",
       "13            4.847222e+06  \n",
       "14            3.161114e+06  \n",
       "28            8.373183e+06  \n",
       "47            9.205322e+06  \n",
       "53            1.791340e+07  \n",
       "56            1.362218e+07  \n",
       "61            6.564428e+06  \n",
       "63            1.388846e+07  "
      ]
     },
     "execution_count": 37,
     "metadata": {},
     "output_type": "execute_result"
    }
   ],
   "source": [
    "df_market_value_predicted = Football_df\n",
    "df_market_value_predicted['Tested_Market_Value'] = pd.DataFrame(y_test)\n",
    "df_market_value_predicted['Predicted_Market_Value'] = pd.DataFrame(lm_predict)\n",
    "\n",
    "df_market_value_predicted = Football_df.dropna()\n",
    "\n",
    "df_market_value_predicted"
   ]
  },
  {
   "cell_type": "code",
   "execution_count": 38,
   "id": "545f2897",
   "metadata": {},
   "outputs": [
    {
     "data": {
      "text/plain": [
       "player_position_Midfield           0.3\n",
       "Tested_Market_Value         37300000.0\n",
       "dtype: float64"
      ]
     },
     "execution_count": 38,
     "metadata": {},
     "output_type": "execute_result"
    }
   ],
   "source": [
    "df_market_value_predicted.iloc[:,-3:-1].mean()"
   ]
  },
  {
   "cell_type": "code",
   "execution_count": 39,
   "id": "b50a1f69",
   "metadata": {},
   "outputs": [
    {
     "data": {
      "text/html": [
       "<table class=\"simpletable\">\n",
       "<caption>OLS Regression Results</caption>\n",
       "<tr>\n",
       "  <th>Dep. Variable:</th>      <td>market_value</td>   <th>  R-squared:         </th> <td>   0.737</td> \n",
       "</tr>\n",
       "<tr>\n",
       "  <th>Model:</th>                   <td>OLS</td>       <th>  Adj. R-squared:    </th> <td>   0.737</td> \n",
       "</tr>\n",
       "<tr>\n",
       "  <th>Method:</th>             <td>Least Squares</td>  <th>  F-statistic:       </th> <td>   974.4</td> \n",
       "</tr>\n",
       "<tr>\n",
       "  <th>Date:</th>             <td>Sun, 14 Nov 2021</td> <th>  Prob (F-statistic):</th> <td>8.80e-103</td>\n",
       "</tr>\n",
       "<tr>\n",
       "  <th>Time:</th>                 <td>18:09:47</td>     <th>  Log-Likelihood:    </th> <td> -5987.5</td> \n",
       "</tr>\n",
       "<tr>\n",
       "  <th>No. Observations:</th>      <td>   349</td>      <th>  AIC:               </th> <td>1.198e+04</td>\n",
       "</tr>\n",
       "<tr>\n",
       "  <th>Df Residuals:</th>          <td>   347</td>      <th>  BIC:               </th> <td>1.199e+04</td>\n",
       "</tr>\n",
       "<tr>\n",
       "  <th>Df Model:</th>              <td>     1</td>      <th>                     </th>     <td> </td>    \n",
       "</tr>\n",
       "<tr>\n",
       "  <th>Covariance Type:</th>      <td>nonrobust</td>    <th>                     </th>     <td> </td>    \n",
       "</tr>\n",
       "</table>\n",
       "<table class=\"simpletable\">\n",
       "<tr>\n",
       "        <td></td>          <th>coef</th>     <th>std err</th>      <th>t</th>      <th>P>|t|</th>  <th>[0.025</th>    <th>0.975]</th>  \n",
       "</tr>\n",
       "<tr>\n",
       "  <th>Intercept</th>    <td> 2.059e+06</td> <td> 5.06e+05</td> <td>    4.066</td> <td> 0.000</td> <td> 1.06e+06</td> <td> 3.06e+06</td>\n",
       "</tr>\n",
       "<tr>\n",
       "  <th>transfer_fee</th> <td>    0.6142</td> <td>    0.020</td> <td>   31.216</td> <td> 0.000</td> <td>    0.575</td> <td>    0.653</td>\n",
       "</tr>\n",
       "</table>\n",
       "<table class=\"simpletable\">\n",
       "<tr>\n",
       "  <th>Omnibus:</th>       <td>44.814</td> <th>  Durbin-Watson:     </th> <td>   1.186</td>\n",
       "</tr>\n",
       "<tr>\n",
       "  <th>Prob(Omnibus):</th> <td> 0.000</td> <th>  Jarque-Bera (JB):  </th> <td> 276.933</td>\n",
       "</tr>\n",
       "<tr>\n",
       "  <th>Skew:</th>          <td> 0.248</td> <th>  Prob(JB):          </th> <td>7.32e-61</td>\n",
       "</tr>\n",
       "<tr>\n",
       "  <th>Kurtosis:</th>      <td> 7.336</td> <th>  Cond. No.          </th> <td>3.55e+07</td>\n",
       "</tr>\n",
       "</table><br/><br/>Notes:<br/>[1] Standard Errors assume that the covariance matrix of the errors is correctly specified.<br/>[2] The condition number is large, 3.55e+07. This might indicate that there are<br/>strong multicollinearity or other numerical problems."
      ],
      "text/plain": [
       "<class 'statsmodels.iolib.summary.Summary'>\n",
       "\"\"\"\n",
       "                            OLS Regression Results                            \n",
       "==============================================================================\n",
       "Dep. Variable:           market_value   R-squared:                       0.737\n",
       "Model:                            OLS   Adj. R-squared:                  0.737\n",
       "Method:                 Least Squares   F-statistic:                     974.4\n",
       "Date:                Sun, 14 Nov 2021   Prob (F-statistic):          8.80e-103\n",
       "Time:                        18:09:47   Log-Likelihood:                -5987.5\n",
       "No. Observations:                 349   AIC:                         1.198e+04\n",
       "Df Residuals:                     347   BIC:                         1.199e+04\n",
       "Df Model:                           1                                         \n",
       "Covariance Type:            nonrobust                                         \n",
       "================================================================================\n",
       "                   coef    std err          t      P>|t|      [0.025      0.975]\n",
       "--------------------------------------------------------------------------------\n",
       "Intercept     2.059e+06   5.06e+05      4.066      0.000    1.06e+06    3.06e+06\n",
       "transfer_fee     0.6142      0.020     31.216      0.000       0.575       0.653\n",
       "==============================================================================\n",
       "Omnibus:                       44.814   Durbin-Watson:                   1.186\n",
       "Prob(Omnibus):                  0.000   Jarque-Bera (JB):              276.933\n",
       "Skew:                           0.248   Prob(JB):                     7.32e-61\n",
       "Kurtosis:                       7.336   Cond. No.                     3.55e+07\n",
       "==============================================================================\n",
       "\n",
       "Notes:\n",
       "[1] Standard Errors assume that the covariance matrix of the errors is correctly specified.\n",
       "[2] The condition number is large, 3.55e+07. This might indicate that there are\n",
       "strong multicollinearity or other numerical problems.\n",
       "\"\"\""
      ]
     },
     "execution_count": 39,
     "metadata": {},
     "output_type": "execute_result"
    }
   ],
   "source": [
    "import statsmodels.formula.api as smf\n",
    "import statsmodels.api as sm\n",
    "\n",
    "# Create your feature matrix (X) and target vector (y)\n",
    "y, X = patsy.dmatrices('market_value ~ transfer_fee', data=Football_df, \n",
    "return_type=\"dataframe\")\n",
    "\n",
    "# Create your model\n",
    "model = sm.OLS(y, X)\n",
    "\n",
    "# Fit your model to your training set\n",
    "fit = model.fit()\n",
    "\n",
    "# Print summary statistics of the model's performance\n",
    "fit.summary()"
   ]
  },
  {
   "cell_type": "code",
   "execution_count": 40,
   "id": "436a9b22",
   "metadata": {},
   "outputs": [
    {
     "data": {
      "text/plain": [
       "<AxesSubplot:>"
      ]
     },
     "execution_count": 40,
     "metadata": {},
     "output_type": "execute_result"
    },
    {
     "data": {
      "image/png": "[encoded data removed]",
      "text/plain": [
       "<Figure size 864x432 with 1 Axes>"
      ]
     },
     "metadata": {
      "needs_background": "light"
     },
     "output_type": "display_data"
    }
   ],
   "source": [
    "fit.resid.plot(style='o',figsize=(12,6))"
   ]
  },
  {
   "cell_type": "markdown",
   "id": "642fd497",
   "metadata": {
    "scrolled": true
   },
   "source": [
    "# Define x and y"
   ]
  },
  {
   "cell_type": "code",
   "execution_count": 41,
   "id": "d4bffbb0",
   "metadata": {},
   "outputs": [],
   "source": [
    "Football_df = Football_df.drop(['Tested_Market_Value','Predicted_Market_Value'], axis=1)"
   ]
  },
  {
   "cell_type": "code",
   "execution_count": 42,
   "id": "4e144b15",
   "metadata": {},
   "outputs": [
    {
     "data": {
      "text/html": [
       "<div>\n",
       "<style scoped>\n",
       "    .dataframe tbody tr th:only-of-type {\n",
       "        vertical-align: middle;\n",
       "    }\n",
       "\n",
       "    .dataframe tbody tr th {\n",
       "        vertical-align: top;\n",
       "    }\n",
       "\n",
       "    .dataframe thead th {\n",
       "        text-align: right;\n",
       "    }\n",
       "</style>\n",
       "<table border=\"1\" class=\"dataframe\">\n",
       "  <thead>\n",
       "    <tr style=\"text-align: right;\">\n",
       "      <th></th>\n",
       "      <th>age</th>\n",
       "      <th>games</th>\n",
       "      <th>goals</th>\n",
       "      <th>assists</th>\n",
       "      <th>hours_played</th>\n",
       "      <th>yellow_cards</th>\n",
       "      <th>red_cards</th>\n",
       "      <th>transfer_fee</th>\n",
       "      <th>market_value</th>\n",
       "      <th>club_market_value</th>\n",
       "      <th>player_position_0</th>\n",
       "      <th>player_position_Attack</th>\n",
       "      <th>player_position_Defender</th>\n",
       "      <th>player_position_Goalkeeper</th>\n",
       "      <th>player_position_Midfield</th>\n",
       "    </tr>\n",
       "  </thead>\n",
       "  <tbody>\n",
       "    <tr>\n",
       "      <th>0</th>\n",
       "      <td>25</td>\n",
       "      <td>27</td>\n",
       "      <td>25</td>\n",
       "      <td>16</td>\n",
       "      <td>40.450001</td>\n",
       "      <td>8</td>\n",
       "      <td>0</td>\n",
       "      <td>222000000</td>\n",
       "      <td>100000000</td>\n",
       "      <td>891180000</td>\n",
       "      <td>0.0</td>\n",
       "      <td>1.0</td>\n",
       "      <td>0.0</td>\n",
       "      <td>0.0</td>\n",
       "      <td>0.0</td>\n",
       "    </tr>\n",
       "    <tr>\n",
       "      <th>1</th>\n",
       "      <td>33</td>\n",
       "      <td>43</td>\n",
       "      <td>28</td>\n",
       "      <td>10</td>\n",
       "      <td>60.766701</td>\n",
       "      <td>4</td>\n",
       "      <td>1</td>\n",
       "      <td>117000000</td>\n",
       "      <td>100000000</td>\n",
       "      <td>816530000</td>\n",
       "      <td>0.0</td>\n",
       "      <td>1.0</td>\n",
       "      <td>0.0</td>\n",
       "      <td>0.0</td>\n",
       "      <td>0.0</td>\n",
       "    </tr>\n",
       "    <tr>\n",
       "      <th>2</th>\n",
       "      <td>25</td>\n",
       "      <td>42</td>\n",
       "      <td>21</td>\n",
       "      <td>15</td>\n",
       "      <td>49.883301</td>\n",
       "      <td>1</td>\n",
       "      <td>0</td>\n",
       "      <td>125000000</td>\n",
       "      <td>90000000</td>\n",
       "      <td>604800000</td>\n",
       "      <td>0.0</td>\n",
       "      <td>0.0</td>\n",
       "      <td>0.0</td>\n",
       "      <td>0.0</td>\n",
       "      <td>1.0</td>\n",
       "    </tr>\n",
       "    <tr>\n",
       "      <th>3</th>\n",
       "      <td>22</td>\n",
       "      <td>43</td>\n",
       "      <td>3</td>\n",
       "      <td>6</td>\n",
       "      <td>43.533298</td>\n",
       "      <td>5</td>\n",
       "      <td>0</td>\n",
       "      <td>70000000</td>\n",
       "      <td>65000000</td>\n",
       "      <td>671310000</td>\n",
       "      <td>0.0</td>\n",
       "      <td>0.0</td>\n",
       "      <td>0.0</td>\n",
       "      <td>0.0</td>\n",
       "      <td>1.0</td>\n",
       "    </tr>\n",
       "    <tr>\n",
       "      <th>4</th>\n",
       "      <td>25</td>\n",
       "      <td>51</td>\n",
       "      <td>0</td>\n",
       "      <td>0</td>\n",
       "      <td>76.500000</td>\n",
       "      <td>1</td>\n",
       "      <td>0</td>\n",
       "      <td>62500000</td>\n",
       "      <td>60000000</td>\n",
       "      <td>779850000</td>\n",
       "      <td>0.0</td>\n",
       "      <td>0.0</td>\n",
       "      <td>0.0</td>\n",
       "      <td>1.0</td>\n",
       "      <td>0.0</td>\n",
       "    </tr>\n",
       "    <tr>\n",
       "      <th>...</th>\n",
       "      <td>...</td>\n",
       "      <td>...</td>\n",
       "      <td>...</td>\n",
       "      <td>...</td>\n",
       "      <td>...</td>\n",
       "      <td>...</td>\n",
       "      <td>...</td>\n",
       "      <td>...</td>\n",
       "      <td>...</td>\n",
       "      <td>...</td>\n",
       "      <td>...</td>\n",
       "      <td>...</td>\n",
       "      <td>...</td>\n",
       "      <td>...</td>\n",
       "      <td>...</td>\n",
       "    </tr>\n",
       "    <tr>\n",
       "      <th>344</th>\n",
       "      <td>20</td>\n",
       "      <td>1</td>\n",
       "      <td>0</td>\n",
       "      <td>0</td>\n",
       "      <td>0.150000</td>\n",
       "      <td>0</td>\n",
       "      <td>0</td>\n",
       "      <td>10000000</td>\n",
       "      <td>800000</td>\n",
       "      <td>301820000</td>\n",
       "      <td>0.0</td>\n",
       "      <td>0.0</td>\n",
       "      <td>0.0</td>\n",
       "      <td>0.0</td>\n",
       "      <td>1.0</td>\n",
       "    </tr>\n",
       "    <tr>\n",
       "      <th>345</th>\n",
       "      <td>20</td>\n",
       "      <td>1</td>\n",
       "      <td>0</td>\n",
       "      <td>0</td>\n",
       "      <td>1.500000</td>\n",
       "      <td>0</td>\n",
       "      <td>0</td>\n",
       "      <td>5000000</td>\n",
       "      <td>800000</td>\n",
       "      <td>373820000</td>\n",
       "      <td>0.0</td>\n",
       "      <td>0.0</td>\n",
       "      <td>0.0</td>\n",
       "      <td>0.0</td>\n",
       "      <td>1.0</td>\n",
       "    </tr>\n",
       "    <tr>\n",
       "      <th>346</th>\n",
       "      <td>19</td>\n",
       "      <td>1</td>\n",
       "      <td>0</td>\n",
       "      <td>0</td>\n",
       "      <td>0.250000</td>\n",
       "      <td>0</td>\n",
       "      <td>0</td>\n",
       "      <td>5000000</td>\n",
       "      <td>800000</td>\n",
       "      <td>9050000</td>\n",
       "      <td>0.0</td>\n",
       "      <td>1.0</td>\n",
       "      <td>0.0</td>\n",
       "      <td>0.0</td>\n",
       "      <td>0.0</td>\n",
       "    </tr>\n",
       "    <tr>\n",
       "      <th>347</th>\n",
       "      <td>22</td>\n",
       "      <td>22</td>\n",
       "      <td>0</td>\n",
       "      <td>1</td>\n",
       "      <td>29.733299</td>\n",
       "      <td>3</td>\n",
       "      <td>0</td>\n",
       "      <td>5000000</td>\n",
       "      <td>600000</td>\n",
       "      <td>98420000</td>\n",
       "      <td>0.0</td>\n",
       "      <td>0.0</td>\n",
       "      <td>1.0</td>\n",
       "      <td>0.0</td>\n",
       "      <td>0.0</td>\n",
       "    </tr>\n",
       "    <tr>\n",
       "      <th>348</th>\n",
       "      <td>22</td>\n",
       "      <td>22</td>\n",
       "      <td>0</td>\n",
       "      <td>1</td>\n",
       "      <td>29.733299</td>\n",
       "      <td>3</td>\n",
       "      <td>0</td>\n",
       "      <td>5000000</td>\n",
       "      <td>600000</td>\n",
       "      <td>98420000</td>\n",
       "      <td>0.0</td>\n",
       "      <td>0.0</td>\n",
       "      <td>1.0</td>\n",
       "      <td>0.0</td>\n",
       "      <td>0.0</td>\n",
       "    </tr>\n",
       "  </tbody>\n",
       "</table>\n",
       "<p>349 rows × 15 columns</p>\n",
       "</div>"
      ],
      "text/plain": [
       "     age  games  goals  assists  hours_played  yellow_cards  red_cards  \\\n",
       "0     25     27     25       16     40.450001             8          0   \n",
       "1     33     43     28       10     60.766701             4          1   \n",
       "2     25     42     21       15     49.883301             1          0   \n",
       "3     22     43      3        6     43.533298             5          0   \n",
       "4     25     51      0        0     76.500000             1          0   \n",
       "..   ...    ...    ...      ...           ...           ...        ...   \n",
       "344   20      1      0        0      0.150000             0          0   \n",
       "345   20      1      0        0      1.500000             0          0   \n",
       "346   19      1      0        0      0.250000             0          0   \n",
       "347   22     22      0        1     29.733299             3          0   \n",
       "348   22     22      0        1     29.733299             3          0   \n",
       "\n",
       "     transfer_fee  market_value  club_market_value  player_position_0  \\\n",
       "0       222000000     100000000          891180000                0.0   \n",
       "1       117000000     100000000          816530000                0.0   \n",
       "2       125000000      90000000          604800000                0.0   \n",
       "3        70000000      65000000          671310000                0.0   \n",
       "4        62500000      60000000          779850000                0.0   \n",
       "..            ...           ...                ...                ...   \n",
       "344      10000000        800000          301820000                0.0   \n",
       "345       5000000        800000          373820000                0.0   \n",
       "346       5000000        800000            9050000                0.0   \n",
       "347       5000000        600000           98420000                0.0   \n",
       "348       5000000        600000           98420000                0.0   \n",
       "\n",
       "     player_position_Attack  player_position_Defender  \\\n",
       "0                       1.0                       0.0   \n",
       "1                       1.0                       0.0   \n",
       "2                       0.0                       0.0   \n",
       "3                       0.0                       0.0   \n",
       "4                       0.0                       0.0   \n",
       "..                      ...                       ...   \n",
       "344                     0.0                       0.0   \n",
       "345                     0.0                       0.0   \n",
       "346                     1.0                       0.0   \n",
       "347                     0.0                       1.0   \n",
       "348                     0.0                       1.0   \n",
       "\n",
       "     player_position_Goalkeeper  player_position_Midfield  \n",
       "0                           0.0                       0.0  \n",
       "1                           0.0                       0.0  \n",
       "2                           0.0                       1.0  \n",
       "3                           0.0                       1.0  \n",
       "4                           1.0                       0.0  \n",
       "..                          ...                       ...  \n",
       "344                         0.0                       1.0  \n",
       "345                         0.0                       1.0  \n",
       "346                         0.0                       0.0  \n",
       "347                         0.0                       0.0  \n",
       "348                         0.0                       0.0  \n",
       "\n",
       "[349 rows x 15 columns]"
      ]
     },
     "execution_count": 42,
     "metadata": {},
     "output_type": "execute_result"
    }
   ],
   "source": [
    "Football_df"
   ]
  },
  {
   "cell_type": "code",
   "execution_count": 43,
   "id": "c60eb189",
   "metadata": {},
   "outputs": [],
   "source": [
    "x=Football_df.drop(['market_value'],axis=1).values\n",
    "y=Football_df['market_value'].values"
   ]
  },
  {
   "cell_type": "code",
   "execution_count": 44,
   "id": "7763e4d7",
   "metadata": {
    "scrolled": true
   },
   "outputs": [
    {
     "name": "stdout",
     "output_type": "stream",
     "text": [
      "[[25. 27. 25. ...  0.  0.  0.]\n",
      " [33. 43. 28. ...  0.  0.  0.]\n",
      " [25. 42. 21. ...  0.  0.  1.]\n",
      " ...\n",
      " [19.  1.  0. ...  0.  0.  0.]\n",
      " [22. 22.  0. ...  1.  0.  0.]\n",
      " [22. 22.  0. ...  1.  0.  0.]]\n"
     ]
    }
   ],
   "source": [
    "print(x)"
   ]
  },
  {
   "cell_type": "code",
   "execution_count": 45,
   "id": "553ed996",
   "metadata": {},
   "outputs": [
    {
     "name": "stdout",
     "output_type": "stream",
     "text": [
      "[100000000 100000000  90000000  65000000  60000000  55000000  50000000\n",
      "  50000000  50000000  50000000  50000000  45000000  45000000  45000000\n",
      "  45000000  45000000  40000000  40000000  40000000  35000000  35000000\n",
      "  32000000  30000000  30000000  30000000  30000000  30000000  30000000\n",
      "  30000000  30000000  28000000  25000000  25000000  25000000  25000000\n",
      "  25000000  25000000  25000000  25000000  25000000  25000000  25000000\n",
      "  25000000  25000000  25000000  25000000  25000000  25000000  23000000\n",
      "  22000000  22000000  22000000  22000000  20000000  20000000  20000000\n",
      "  20000000  20000000  20000000  20000000  20000000  20000000  20000000\n",
      "  18000000  18000000  18000000  18000000  18000000  18000000  18000000\n",
      "  18000000  18000000  18000000  18000000  18000000  18000000  18000000\n",
      "  17000000  17000000  17000000  16000000  16000000  16000000  16000000\n",
      "  16000000  15000000  15000000  15000000  15000000  15000000  15000000\n",
      "  15000000  15000000  15000000  15000000  15000000  15000000  15000000\n",
      "  15000000  15000000  15000000  15000000  15000000  15000000  15000000\n",
      "  15000000  15000000  15000000  15000000  15000000  15000000  15000000\n",
      "  14000000  14000000  14000000  14000000  14000000  14000000  13000000\n",
      "  13000000  13000000  12000000  12000000  12000000  12000000  12000000\n",
      "  12000000  12000000  12000000  12000000  12000000  12000000  12000000\n",
      "  12000000  12000000  11000000  11000000  11000000  11000000  10500000\n",
      "  10000000  10000000  10000000  10000000  10000000  10000000  10000000\n",
      "  10000000  10000000  10000000  10000000  10000000  10000000  10000000\n",
      "  10000000  10000000  10000000  10000000  10000000  10000000  10000000\n",
      "  10000000  10000000  10000000  10000000  10000000   9500000   9000000\n",
      "   9000000   9000000   9000000   9000000   9000000   9000000   9000000\n",
      "   9000000   9000000   8500000   8500000   8500000   8500000   8500000\n",
      "   8000000   8000000   8000000   8000000   8000000   8000000   8000000\n",
      "   8000000   8000000   8000000   8000000   8000000   8000000   8000000\n",
      "   8000000   7500000   7500000   7500000   7500000   7500000   7500000\n",
      "   7500000   7500000   7500000   7500000   7500000   7500000   7500000\n",
      "   7000000   7000000   7000000   7000000   7000000   7000000   7000000\n",
      "   7000000   7000000   7000000   7000000   7000000   7000000   7000000\n",
      "   7000000   7000000   7000000   7000000   7000000   7000000   7000000\n",
      "   7000000   7000000   7000000   7000000   6500000   6500000   6500000\n",
      "   6500000   6500000   6500000   6000000   6000000   6000000   6000000\n",
      "   6000000   6000000   6000000   6000000   6000000   6000000   6000000\n",
      "   6000000   6000000   5500000   5000000   5000000   5000000   5000000\n",
      "   5000000   5000000   5000000   5000000   5000000   5000000   5000000\n",
      "   5000000   5000000   5000000   5000000   5000000   5000000   5000000\n",
      "   5000000   5000000   5000000   5000000   5000000   4500000   4500000\n",
      "   4500000   4500000   4500000   4000000   4000000   4000000   4000000\n",
      "   4000000   4000000   4000000   4000000   4000000   4000000   4000000\n",
      "   3800000   3500000   3500000   3500000   3500000   3500000   3500000\n",
      "   3500000   3500000   3000000   3000000   3000000   3000000   3000000\n",
      "   3000000   2750000   2750000   2750000   2500000   2500000   2500000\n",
      "   2500000   2500000   2500000   2500000   2500000   2500000   2000000\n",
      "   2000000   2000000   2000000   2000000   2000000   2000000   2000000\n",
      "   2000000   1750000   1500000   1500000   1500000   1500000   1500000\n",
      "   1500000   1500000   1000000   1000000   1000000   1000000   1000000\n",
      "    800000    800000    800000    800000    600000    600000]\n"
     ]
    }
   ],
   "source": [
    "print(y)"
   ]
  },
  {
   "cell_type": "markdown",
   "id": "c406f166",
   "metadata": {},
   "source": [
    "# Split the dataset in training set and test set"
   ]
  },
  {
   "cell_type": "code",
   "execution_count": 46,
   "id": "32d49119",
   "metadata": {},
   "outputs": [],
   "source": [
    "from sklearn.model_selection import train_test_split\n",
    "x_train,x_test, y_train,y_test=train_test_split(x,y,test_size=0.3,random_state=0)"
   ]
  },
  {
   "cell_type": "markdown",
   "id": "1f89ca04",
   "metadata": {},
   "source": [
    "# Train the model on the training set"
   ]
  },
  {
   "cell_type": "code",
   "execution_count": 47,
   "id": "5a2bc83f",
   "metadata": {},
   "outputs": [
    {
     "data": {
      "text/plain": [
       "LinearRegression()"
      ]
     },
     "execution_count": 47,
     "metadata": {},
     "output_type": "execute_result"
    }
   ],
   "source": [
    "from sklearn.linear_model import LinearRegression\n",
    "ml=LinearRegression()\n",
    "ml.fit(x_train,y_train)"
   ]
  },
  {
   "cell_type": "markdown",
   "id": "a9b2ab9a",
   "metadata": {},
   "source": [
    "# Predict the test set results"
   ]
  },
  {
   "cell_type": "code",
   "execution_count": 48,
   "id": "c82f0608",
   "metadata": {},
   "outputs": [
    {
     "name": "stdout",
     "output_type": "stream",
     "text": [
      "[54362454.01288558 28603485.56462155 10598205.81262643  6357609.47062232\n",
      " 11146321.03647992  7547912.28200095  8457347.39527939 16263380.23843439\n",
      " 33454933.06908719  7564946.86983332  1493775.39606993 11611190.44736444\n",
      "  6684516.00335122 12510619.00449293 16569941.44038645  8944467.99023493\n",
      " 12176540.70087952  5339662.23958426  6686296.13208363 11127425.38546711\n",
      "  5758957.5008559   9349895.1765456  13859808.77306451 10183434.72058195\n",
      " 10895768.90157833 24050174.41532527 24429347.82266801 10361538.86401474\n",
      " 13229477.2058765   9860243.58316397 15220682.41924483 17081067.79654323\n",
      "  7803591.14981844 10581794.92350613 17010032.99956462 18435956.1515566\n",
      "  7227521.8576295   6733647.7743753  16364685.64437085 35214095.23061368\n",
      "  5503337.45268471  4248851.10532155  4449906.19161119  5373115.88523019\n",
      "  4608510.13056363 24799039.79536248  7257230.81277217 10205536.94904163\n",
      "  6585541.54650473  9299575.18911226 16311388.59828282  1742280.62689228\n",
      "  2188044.27358252 43508901.03808942 17504155.10181732  9445288.77592395\n",
      "  7705446.19272389 10376932.01967346  7602772.62192602 15446142.40712703\n",
      "  5865768.75129124  9037883.06114761 14184044.87365011 15451745.40806382\n",
      " 11097233.95810865 12919690.71376098 14131079.93613437 35502027.05478539\n",
      "  6112415.55381432  4573439.49050369  6028313.19694139 11248064.6056364\n",
      " 11183839.61418513 40887656.69811265  4353633.73551903  6634846.74317419\n",
      " 18594949.21609093  8152476.74753805 10019030.05864533 25662524.0047843\n",
      " 11065844.77960798  4036836.31953347  8014195.24472629 15873666.09098331\n",
      "  9943108.56361896  9430607.60570718  8879961.22752951  7408158.03373269\n",
      " 11879141.18557196 15258763.0910671  32835942.94475379  7090167.33012999\n",
      "  7926155.88482943  1018571.88839132 11495368.12471167 21062692.31454342\n",
      " 12129531.11178143 12884209.60159524  4948499.06459839  6798252.84814178\n",
      "  1439147.8172657  18275265.50241447 10593570.94195113  7388752.40975296\n",
      "  4343397.54506495]\n"
     ]
    }
   ],
   "source": [
    "y_pred=ml.predict(x_test)\n",
    "print(y_pred)"
   ]
  },
  {
   "cell_type": "raw",
   "id": "668c31a0",
   "metadata": {},
   "source": [
    "ml.predict([[25,27,25,16,40.450001,8,0,222000000,100000000]])"
   ]
  },
  {
   "cell_type": "markdown",
   "id": "d6d98fdc",
   "metadata": {},
   "source": [
    "# Evaluate the model"
   ]
  },
  {
   "cell_type": "code",
   "execution_count": 49,
   "id": "a81e5a8c",
   "metadata": {},
   "outputs": [
    {
     "data": {
      "text/plain": [
       "0.5762814802206617"
      ]
     },
     "execution_count": 49,
     "metadata": {},
     "output_type": "execute_result"
    }
   ],
   "source": [
    "from sklearn.metrics import r2_score\n",
    "r2_score(y_test,y_pred)"
   ]
  },
  {
   "cell_type": "markdown",
   "id": "099523a3",
   "metadata": {},
   "source": [
    "# Plot the results"
   ]
  },
  {
   "cell_type": "code",
   "execution_count": 50,
   "id": "ee9756fc",
   "metadata": {},
   "outputs": [
    {
     "data": {
      "text/plain": [
       "Text(0.5, 1.0, 'Actual vs. Predicted')"
      ]
     },
     "execution_count": 50,
     "metadata": {},
     "output_type": "execute_result"
    },
    {
     "data": {
      "image/png": "[encoded data removed]",
      "text/plain": [
       "<Figure size 1080x720 with 1 Axes>"
      ]
     },
     "metadata": {
      "needs_background": "light"
     },
     "output_type": "display_data"
    }
   ],
   "source": [
    "import matplotlib.pyplot as plt\n",
    "plt.figure(figsize=(15,10))\n",
    "plt.scatter(y_test,y_pred)\n",
    "plt.xlabel('Actual')\n",
    "plt.ylabel('Predicted')\n",
    "plt.title('Actual vs. Predicted')"
   ]
  },
  {
   "cell_type": "markdown",
   "id": "84cfd17f",
   "metadata": {},
   "source": [
    "# Predicted Values"
   ]
  },
  {
   "cell_type": "code",
   "execution_count": 51,
   "id": "0b8dfd99",
   "metadata": {},
   "outputs": [
    {
     "data": {
      "text/html": [
       "<div>\n",
       "<style scoped>\n",
       "    .dataframe tbody tr th:only-of-type {\n",
       "        vertical-align: middle;\n",
       "    }\n",
       "\n",
       "    .dataframe tbody tr th {\n",
       "        vertical-align: top;\n",
       "    }\n",
       "\n",
       "    .dataframe thead th {\n",
       "        text-align: right;\n",
       "    }\n",
       "</style>\n",
       "<table border=\"1\" class=\"dataframe\">\n",
       "  <thead>\n",
       "    <tr style=\"text-align: right;\">\n",
       "      <th></th>\n",
       "      <th>Actual Value</th>\n",
       "      <th>Predicted value</th>\n",
       "      <th>Difference</th>\n",
       "    </tr>\n",
       "  </thead>\n",
       "  <tbody>\n",
       "    <tr>\n",
       "      <th>0</th>\n",
       "      <td>50000000</td>\n",
       "      <td>5.436245e+07</td>\n",
       "      <td>-4.362454e+06</td>\n",
       "    </tr>\n",
       "    <tr>\n",
       "      <th>1</th>\n",
       "      <td>22000000</td>\n",
       "      <td>2.860349e+07</td>\n",
       "      <td>-6.603486e+06</td>\n",
       "    </tr>\n",
       "    <tr>\n",
       "      <th>2</th>\n",
       "      <td>5000000</td>\n",
       "      <td>1.059821e+07</td>\n",
       "      <td>-5.598206e+06</td>\n",
       "    </tr>\n",
       "    <tr>\n",
       "      <th>3</th>\n",
       "      <td>25000000</td>\n",
       "      <td>6.357609e+06</td>\n",
       "      <td>1.864239e+07</td>\n",
       "    </tr>\n",
       "    <tr>\n",
       "      <th>4</th>\n",
       "      <td>3500000</td>\n",
       "      <td>1.114632e+07</td>\n",
       "      <td>-7.646321e+06</td>\n",
       "    </tr>\n",
       "    <tr>\n",
       "      <th>5</th>\n",
       "      <td>8000000</td>\n",
       "      <td>7.547912e+06</td>\n",
       "      <td>4.520877e+05</td>\n",
       "    </tr>\n",
       "    <tr>\n",
       "      <th>6</th>\n",
       "      <td>8000000</td>\n",
       "      <td>8.457347e+06</td>\n",
       "      <td>-4.573474e+05</td>\n",
       "    </tr>\n",
       "    <tr>\n",
       "      <th>7</th>\n",
       "      <td>14000000</td>\n",
       "      <td>1.626338e+07</td>\n",
       "      <td>-2.263380e+06</td>\n",
       "    </tr>\n",
       "    <tr>\n",
       "      <th>8</th>\n",
       "      <td>15000000</td>\n",
       "      <td>3.345493e+07</td>\n",
       "      <td>-1.845493e+07</td>\n",
       "    </tr>\n",
       "    <tr>\n",
       "      <th>9</th>\n",
       "      <td>6000000</td>\n",
       "      <td>7.564947e+06</td>\n",
       "      <td>-1.564947e+06</td>\n",
       "    </tr>\n",
       "    <tr>\n",
       "      <th>10</th>\n",
       "      <td>1750000</td>\n",
       "      <td>1.493775e+06</td>\n",
       "      <td>2.562246e+05</td>\n",
       "    </tr>\n",
       "    <tr>\n",
       "      <th>11</th>\n",
       "      <td>18000000</td>\n",
       "      <td>1.161119e+07</td>\n",
       "      <td>6.388810e+06</td>\n",
       "    </tr>\n",
       "    <tr>\n",
       "      <th>12</th>\n",
       "      <td>7000000</td>\n",
       "      <td>6.684516e+06</td>\n",
       "      <td>3.154840e+05</td>\n",
       "    </tr>\n",
       "    <tr>\n",
       "      <th>13</th>\n",
       "      <td>12000000</td>\n",
       "      <td>1.251062e+07</td>\n",
       "      <td>-5.106190e+05</td>\n",
       "    </tr>\n",
       "    <tr>\n",
       "      <th>14</th>\n",
       "      <td>15000000</td>\n",
       "      <td>1.656994e+07</td>\n",
       "      <td>-1.569941e+06</td>\n",
       "    </tr>\n",
       "    <tr>\n",
       "      <th>15</th>\n",
       "      <td>11000000</td>\n",
       "      <td>8.944468e+06</td>\n",
       "      <td>2.055532e+06</td>\n",
       "    </tr>\n",
       "    <tr>\n",
       "      <th>16</th>\n",
       "      <td>12000000</td>\n",
       "      <td>1.217654e+07</td>\n",
       "      <td>-1.765407e+05</td>\n",
       "    </tr>\n",
       "    <tr>\n",
       "      <th>17</th>\n",
       "      <td>2500000</td>\n",
       "      <td>5.339662e+06</td>\n",
       "      <td>-2.839662e+06</td>\n",
       "    </tr>\n",
       "    <tr>\n",
       "      <th>18</th>\n",
       "      <td>7000000</td>\n",
       "      <td>6.686296e+06</td>\n",
       "      <td>3.137039e+05</td>\n",
       "    </tr>\n",
       "    <tr>\n",
       "      <th>19</th>\n",
       "      <td>6500000</td>\n",
       "      <td>1.112743e+07</td>\n",
       "      <td>-4.627425e+06</td>\n",
       "    </tr>\n",
       "  </tbody>\n",
       "</table>\n",
       "</div>"
      ],
      "text/plain": [
       "    Actual Value  Predicted value    Difference\n",
       "0       50000000     5.436245e+07 -4.362454e+06\n",
       "1       22000000     2.860349e+07 -6.603486e+06\n",
       "2        5000000     1.059821e+07 -5.598206e+06\n",
       "3       25000000     6.357609e+06  1.864239e+07\n",
       "4        3500000     1.114632e+07 -7.646321e+06\n",
       "5        8000000     7.547912e+06  4.520877e+05\n",
       "6        8000000     8.457347e+06 -4.573474e+05\n",
       "7       14000000     1.626338e+07 -2.263380e+06\n",
       "8       15000000     3.345493e+07 -1.845493e+07\n",
       "9        6000000     7.564947e+06 -1.564947e+06\n",
       "10       1750000     1.493775e+06  2.562246e+05\n",
       "11      18000000     1.161119e+07  6.388810e+06\n",
       "12       7000000     6.684516e+06  3.154840e+05\n",
       "13      12000000     1.251062e+07 -5.106190e+05\n",
       "14      15000000     1.656994e+07 -1.569941e+06\n",
       "15      11000000     8.944468e+06  2.055532e+06\n",
       "16      12000000     1.217654e+07 -1.765407e+05\n",
       "17       2500000     5.339662e+06 -2.839662e+06\n",
       "18       7000000     6.686296e+06  3.137039e+05\n",
       "19       6500000     1.112743e+07 -4.627425e+06"
      ]
     },
     "execution_count": 51,
     "metadata": {},
     "output_type": "execute_result"
    }
   ],
   "source": [
    "pred_y_df=pd.DataFrame({'Actual Value':y_test,'Predicted value':y_pred, 'Difference':y_test-y_pred})\n",
    "pred_y_df[0:20]"
   ]
  },
  {
   "cell_type": "code",
   "execution_count": null,
   "id": "40a905fd",
   "metadata": {},
   "outputs": [],
   "source": []
  },
  {
   "cell_type": "code",
   "execution_count": null,
   "id": "a906ba16",
   "metadata": {},
   "outputs": [],
   "source": []
  }
 ],
 "metadata": {
  "kernelspec": {
   "display_name": "PythonData",
   "language": "python",
   "name": "pythondata"
  },
  "language_info": {
   "codemirror_mode": {
    "name": "ipython",
    "version": 3
   },
   "file_extension": ".py",
   "mimetype": "text/x-python",
   "name": "python",
   "nbconvert_exporter": "python",
   "pygments_lexer": "ipython3",
   "version": "3.7.10"
  }
 },
 "nbformat": 4,
 "nbformat_minor": 5
}
