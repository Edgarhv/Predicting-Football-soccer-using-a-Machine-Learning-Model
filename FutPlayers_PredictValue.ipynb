{
 "cells": [
  {
   "cell_type": "markdown",
   "id": "1ed39364",
   "metadata": {},
   "source": [
    "# Import Libraries"
   ]
  },
  {
   "cell_type": "code",
   "execution_count": 2,
   "id": "53d09271",
   "metadata": {},
   "outputs": [],
   "source": [
    "import pandas as pd\n",
    "import numpy as np\n",
    "import psycopg2\n",
    "import seaborn as sns\n",
    "import matplotlib.pyplot as plt\n",
    "from sklearn.preprocessing import OneHotEncoder"
   ]
  },
  {
   "cell_type": "markdown",
   "id": "7979b8fb",
   "metadata": {},
   "source": [
    "# Import dataset from Heroku"
   ]
  },
  {
   "cell_type": "code",
   "execution_count": 3,
   "id": "9b462539",
   "metadata": {
    "scrolled": true
   },
   "outputs": [
    {
     "name": "stdout",
     "output_type": "stream",
     "text": [
      "Enter database password········\n",
      "Loading data from Heroku\n"
     ]
    },
    {
     "data": {
      "text/html": [
       "<div>\n",
       "<style scoped>\n",
       "    .dataframe tbody tr th:only-of-type {\n",
       "        vertical-align: middle;\n",
       "    }\n",
       "\n",
       "    .dataframe tbody tr th {\n",
       "        vertical-align: top;\n",
       "    }\n",
       "\n",
       "    .dataframe thead th {\n",
       "        text-align: right;\n",
       "    }\n",
       "</style>\n",
       "<table border=\"1\" class=\"dataframe\">\n",
       "  <thead>\n",
       "    <tr style=\"text-align: right;\">\n",
       "      <th></th>\n",
       "      <th>age</th>\n",
       "      <th>player_position</th>\n",
       "      <th>games</th>\n",
       "      <th>goals</th>\n",
       "      <th>assists</th>\n",
       "      <th>hours_played</th>\n",
       "      <th>yellow_cards</th>\n",
       "      <th>red_cards</th>\n",
       "      <th>transfer_fee</th>\n",
       "      <th>market_value</th>\n",
       "      <th>club_market_value</th>\n",
       "    </tr>\n",
       "  </thead>\n",
       "  <tbody>\n",
       "    <tr>\n",
       "      <th>0</th>\n",
       "      <td>25</td>\n",
       "      <td>Attack</td>\n",
       "      <td>27</td>\n",
       "      <td>25</td>\n",
       "      <td>16</td>\n",
       "      <td>40.4500</td>\n",
       "      <td>8</td>\n",
       "      <td>0</td>\n",
       "      <td>222000000</td>\n",
       "      <td>100000000</td>\n",
       "      <td>891180000</td>\n",
       "    </tr>\n",
       "    <tr>\n",
       "      <th>1</th>\n",
       "      <td>33</td>\n",
       "      <td>Attack</td>\n",
       "      <td>43</td>\n",
       "      <td>28</td>\n",
       "      <td>10</td>\n",
       "      <td>60.7667</td>\n",
       "      <td>4</td>\n",
       "      <td>1</td>\n",
       "      <td>117000000</td>\n",
       "      <td>100000000</td>\n",
       "      <td>816530000</td>\n",
       "    </tr>\n",
       "    <tr>\n",
       "      <th>2</th>\n",
       "      <td>25</td>\n",
       "      <td>Midfield</td>\n",
       "      <td>42</td>\n",
       "      <td>21</td>\n",
       "      <td>15</td>\n",
       "      <td>49.8833</td>\n",
       "      <td>1</td>\n",
       "      <td>0</td>\n",
       "      <td>125000000</td>\n",
       "      <td>90000000</td>\n",
       "      <td>604800000</td>\n",
       "    </tr>\n",
       "    <tr>\n",
       "      <th>3</th>\n",
       "      <td>22</td>\n",
       "      <td>Midfield</td>\n",
       "      <td>43</td>\n",
       "      <td>3</td>\n",
       "      <td>6</td>\n",
       "      <td>43.5333</td>\n",
       "      <td>5</td>\n",
       "      <td>0</td>\n",
       "      <td>70000000</td>\n",
       "      <td>65000000</td>\n",
       "      <td>671310000</td>\n",
       "    </tr>\n",
       "    <tr>\n",
       "      <th>4</th>\n",
       "      <td>25</td>\n",
       "      <td>Goalkeeper</td>\n",
       "      <td>51</td>\n",
       "      <td>0</td>\n",
       "      <td>0</td>\n",
       "      <td>76.5000</td>\n",
       "      <td>1</td>\n",
       "      <td>0</td>\n",
       "      <td>62500000</td>\n",
       "      <td>60000000</td>\n",
       "      <td>779850000</td>\n",
       "    </tr>\n",
       "    <tr>\n",
       "      <th>...</th>\n",
       "      <td>...</td>\n",
       "      <td>...</td>\n",
       "      <td>...</td>\n",
       "      <td>...</td>\n",
       "      <td>...</td>\n",
       "      <td>...</td>\n",
       "      <td>...</td>\n",
       "      <td>...</td>\n",
       "      <td>...</td>\n",
       "      <td>...</td>\n",
       "      <td>...</td>\n",
       "    </tr>\n",
       "    <tr>\n",
       "      <th>344</th>\n",
       "      <td>20</td>\n",
       "      <td>Midfield</td>\n",
       "      <td>1</td>\n",
       "      <td>0</td>\n",
       "      <td>0</td>\n",
       "      <td>0.1500</td>\n",
       "      <td>0</td>\n",
       "      <td>0</td>\n",
       "      <td>10000000</td>\n",
       "      <td>800000</td>\n",
       "      <td>301820000</td>\n",
       "    </tr>\n",
       "    <tr>\n",
       "      <th>345</th>\n",
       "      <td>20</td>\n",
       "      <td>Midfield</td>\n",
       "      <td>1</td>\n",
       "      <td>0</td>\n",
       "      <td>0</td>\n",
       "      <td>1.5000</td>\n",
       "      <td>0</td>\n",
       "      <td>0</td>\n",
       "      <td>5000000</td>\n",
       "      <td>800000</td>\n",
       "      <td>373820000</td>\n",
       "    </tr>\n",
       "    <tr>\n",
       "      <th>346</th>\n",
       "      <td>19</td>\n",
       "      <td>Attack</td>\n",
       "      <td>1</td>\n",
       "      <td>0</td>\n",
       "      <td>0</td>\n",
       "      <td>0.2500</td>\n",
       "      <td>0</td>\n",
       "      <td>0</td>\n",
       "      <td>5000000</td>\n",
       "      <td>800000</td>\n",
       "      <td>9050000</td>\n",
       "    </tr>\n",
       "    <tr>\n",
       "      <th>347</th>\n",
       "      <td>22</td>\n",
       "      <td>Defender</td>\n",
       "      <td>22</td>\n",
       "      <td>0</td>\n",
       "      <td>1</td>\n",
       "      <td>29.7333</td>\n",
       "      <td>3</td>\n",
       "      <td>0</td>\n",
       "      <td>5000000</td>\n",
       "      <td>600000</td>\n",
       "      <td>98420000</td>\n",
       "    </tr>\n",
       "    <tr>\n",
       "      <th>348</th>\n",
       "      <td>22</td>\n",
       "      <td>Defender</td>\n",
       "      <td>22</td>\n",
       "      <td>0</td>\n",
       "      <td>1</td>\n",
       "      <td>29.7333</td>\n",
       "      <td>3</td>\n",
       "      <td>0</td>\n",
       "      <td>5000000</td>\n",
       "      <td>600000</td>\n",
       "      <td>98420000</td>\n",
       "    </tr>\n",
       "  </tbody>\n",
       "</table>\n",
       "<p>349 rows × 11 columns</p>\n",
       "</div>"
      ],
      "text/plain": [
       "     age player_position  games  goals  assists hours_played  yellow_cards  \\\n",
       "0     25          Attack     27     25       16      40.4500             8   \n",
       "1     33          Attack     43     28       10      60.7667             4   \n",
       "2     25        Midfield     42     21       15      49.8833             1   \n",
       "3     22        Midfield     43      3        6      43.5333             5   \n",
       "4     25      Goalkeeper     51      0        0      76.5000             1   \n",
       "..   ...             ...    ...    ...      ...          ...           ...   \n",
       "344   20        Midfield      1      0        0       0.1500             0   \n",
       "345   20        Midfield      1      0        0       1.5000             0   \n",
       "346   19          Attack      1      0        0       0.2500             0   \n",
       "347   22        Defender     22      0        1      29.7333             3   \n",
       "348   22        Defender     22      0        1      29.7333             3   \n",
       "\n",
       "     red_cards  transfer_fee  market_value  club_market_value  \n",
       "0            0     222000000     100000000          891180000  \n",
       "1            1     117000000     100000000          816530000  \n",
       "2            0     125000000      90000000          604800000  \n",
       "3            0      70000000      65000000          671310000  \n",
       "4            0      62500000      60000000          779850000  \n",
       "..         ...           ...           ...                ...  \n",
       "344          0      10000000        800000          301820000  \n",
       "345          0       5000000        800000          373820000  \n",
       "346          0       5000000        800000            9050000  \n",
       "347          0       5000000        600000           98420000  \n",
       "348          0       5000000        600000           98420000  \n",
       "\n",
       "[349 rows x 11 columns]"
      ]
     },
     "execution_count": 3,
     "metadata": {},
     "output_type": "execute_result"
    }
   ],
   "source": [
    "from getpass import getpass\n",
    "password = getpass('Enter database password')\n",
    "\n",
    "connection = psycopg2.connect(user=\"azcaqpdjrciaow\",\n",
    "                                  password=password,\n",
    "                                  host=\"ec2-34-226-18-183.compute-1.amazonaws.com\",\n",
    "                                  port=\"5432\",\n",
    "                                  database=\"d7m85rf8c5rhv5\")\n",
    "cursor = connection.cursor()\n",
    "postgreSQL_select_Query = \"select * from player_market_values where season = 2018 or season = 2017\"\n",
    "\n",
    "cursor.execute(postgreSQL_select_Query)\n",
    "print(\"Loading data from Heroku\")\n",
    "\n",
    "data = cursor.fetchall()\n",
    "df = pd.DataFrame(data, columns=['player_id', 'player_name', 'age', 'club_id', \\\n",
    "                                                    'team_from', 'league_from', 'team_to', 'country_of_birth', \\\n",
    "                                                    'country_of_citizenship', 'player_position', 'games', 'goals', \\\n",
    "                                                    'assists', 'hours_played', 'yellow_cards', 'red_cards', 'transfer_fee', \\\n",
    "                                                    'market_value', 'club_market_value', 'season'])\n",
    "Football_df = df.drop(columns=['player_id', 'player_name', 'club_id', 'team_from', 'league_from', 'team_to', 'country_of_birth', 'country_of_citizenship', 'season'])\n",
    "Football_df"
   ]
  },
  {
   "cell_type": "markdown",
   "id": "c4b0fc5c",
   "metadata": {},
   "source": [
    "# Encoding categorical variables\n",
    "#### hours_played converted to float\n",
    "#### player_position to dummie variables"
   ]
  },
  {
   "cell_type": "code",
   "execution_count": 4,
   "id": "e5d16a2b",
   "metadata": {},
   "outputs": [
    {
     "data": {
      "text/plain": [
       "['player_position']"
      ]
     },
     "execution_count": 4,
     "metadata": {},
     "output_type": "execute_result"
    }
   ],
   "source": [
    "Football_df[\"hours_played\"] = pd.to_numeric(Football_df.hours_played, downcast=\"float\")\n",
    "Football_cat= Football_df.dtypes[Football_df.dtypes == \"object\"].index.tolist()\n",
    "Football_cat"
   ]
  },
  {
   "cell_type": "code",
   "execution_count": 5,
   "id": "f4b92572",
   "metadata": {},
   "outputs": [
    {
     "data": {
      "text/html": [
       "<div>\n",
       "<style scoped>\n",
       "    .dataframe tbody tr th:only-of-type {\n",
       "        vertical-align: middle;\n",
       "    }\n",
       "\n",
       "    .dataframe tbody tr th {\n",
       "        vertical-align: top;\n",
       "    }\n",
       "\n",
       "    .dataframe thead th {\n",
       "        text-align: right;\n",
       "    }\n",
       "</style>\n",
       "<table border=\"1\" class=\"dataframe\">\n",
       "  <thead>\n",
       "    <tr style=\"text-align: right;\">\n",
       "      <th></th>\n",
       "      <th>player_position_0</th>\n",
       "      <th>player_position_Attack</th>\n",
       "      <th>player_position_Defender</th>\n",
       "      <th>player_position_Goalkeeper</th>\n",
       "      <th>player_position_Midfield</th>\n",
       "    </tr>\n",
       "  </thead>\n",
       "  <tbody>\n",
       "    <tr>\n",
       "      <th>0</th>\n",
       "      <td>0.0</td>\n",
       "      <td>1.0</td>\n",
       "      <td>0.0</td>\n",
       "      <td>0.0</td>\n",
       "      <td>0.0</td>\n",
       "    </tr>\n",
       "    <tr>\n",
       "      <th>1</th>\n",
       "      <td>0.0</td>\n",
       "      <td>1.0</td>\n",
       "      <td>0.0</td>\n",
       "      <td>0.0</td>\n",
       "      <td>0.0</td>\n",
       "    </tr>\n",
       "    <tr>\n",
       "      <th>2</th>\n",
       "      <td>0.0</td>\n",
       "      <td>0.0</td>\n",
       "      <td>0.0</td>\n",
       "      <td>0.0</td>\n",
       "      <td>1.0</td>\n",
       "    </tr>\n",
       "    <tr>\n",
       "      <th>3</th>\n",
       "      <td>0.0</td>\n",
       "      <td>0.0</td>\n",
       "      <td>0.0</td>\n",
       "      <td>0.0</td>\n",
       "      <td>1.0</td>\n",
       "    </tr>\n",
       "    <tr>\n",
       "      <th>4</th>\n",
       "      <td>0.0</td>\n",
       "      <td>0.0</td>\n",
       "      <td>0.0</td>\n",
       "      <td>1.0</td>\n",
       "      <td>0.0</td>\n",
       "    </tr>\n",
       "  </tbody>\n",
       "</table>\n",
       "</div>"
      ],
      "text/plain": [
       "   player_position_0  player_position_Attack  player_position_Defender  \\\n",
       "0                0.0                     1.0                       0.0   \n",
       "1                0.0                     1.0                       0.0   \n",
       "2                0.0                     0.0                       0.0   \n",
       "3                0.0                     0.0                       0.0   \n",
       "4                0.0                     0.0                       0.0   \n",
       "\n",
       "   player_position_Goalkeeper  player_position_Midfield  \n",
       "0                         0.0                       0.0  \n",
       "1                         0.0                       0.0  \n",
       "2                         0.0                       1.0  \n",
       "3                         0.0                       1.0  \n",
       "4                         1.0                       0.0  "
      ]
     },
     "execution_count": 5,
     "metadata": {},
     "output_type": "execute_result"
    }
   ],
   "source": [
    "# Create a OneHotEncoder instance\n",
    "enc = OneHotEncoder(sparse=False)\n",
    "\n",
    "# Fit and transform the OneHotEncoder using the categorical variable list\n",
    "encode_df = pd.DataFrame(enc.fit_transform(Football_df[Football_cat]))\n",
    "\n",
    "# Add the encoded variable names to the dataframe\n",
    "encode_df.columns = enc.get_feature_names(Football_cat)\n",
    "encode_df.head()"
   ]
  },
  {
   "cell_type": "code",
   "execution_count": 6,
   "id": "83bd4548",
   "metadata": {},
   "outputs": [
    {
     "data": {
      "text/html": [
       "<div>\n",
       "<style scoped>\n",
       "    .dataframe tbody tr th:only-of-type {\n",
       "        vertical-align: middle;\n",
       "    }\n",
       "\n",
       "    .dataframe tbody tr th {\n",
       "        vertical-align: top;\n",
       "    }\n",
       "\n",
       "    .dataframe thead th {\n",
       "        text-align: right;\n",
       "    }\n",
       "</style>\n",
       "<table border=\"1\" class=\"dataframe\">\n",
       "  <thead>\n",
       "    <tr style=\"text-align: right;\">\n",
       "      <th></th>\n",
       "      <th>age</th>\n",
       "      <th>games</th>\n",
       "      <th>goals</th>\n",
       "      <th>assists</th>\n",
       "      <th>hours_played</th>\n",
       "      <th>yellow_cards</th>\n",
       "      <th>red_cards</th>\n",
       "      <th>transfer_fee</th>\n",
       "      <th>market_value</th>\n",
       "      <th>club_market_value</th>\n",
       "      <th>player_position_0</th>\n",
       "      <th>player_position_Attack</th>\n",
       "      <th>player_position_Defender</th>\n",
       "      <th>player_position_Goalkeeper</th>\n",
       "      <th>player_position_Midfield</th>\n",
       "    </tr>\n",
       "  </thead>\n",
       "  <tbody>\n",
       "    <tr>\n",
       "      <th>0</th>\n",
       "      <td>25</td>\n",
       "      <td>27</td>\n",
       "      <td>25</td>\n",
       "      <td>16</td>\n",
       "      <td>40.450001</td>\n",
       "      <td>8</td>\n",
       "      <td>0</td>\n",
       "      <td>222000000</td>\n",
       "      <td>100000000</td>\n",
       "      <td>891180000</td>\n",
       "      <td>0.0</td>\n",
       "      <td>1.0</td>\n",
       "      <td>0.0</td>\n",
       "      <td>0.0</td>\n",
       "      <td>0.0</td>\n",
       "    </tr>\n",
       "    <tr>\n",
       "      <th>1</th>\n",
       "      <td>33</td>\n",
       "      <td>43</td>\n",
       "      <td>28</td>\n",
       "      <td>10</td>\n",
       "      <td>60.766701</td>\n",
       "      <td>4</td>\n",
       "      <td>1</td>\n",
       "      <td>117000000</td>\n",
       "      <td>100000000</td>\n",
       "      <td>816530000</td>\n",
       "      <td>0.0</td>\n",
       "      <td>1.0</td>\n",
       "      <td>0.0</td>\n",
       "      <td>0.0</td>\n",
       "      <td>0.0</td>\n",
       "    </tr>\n",
       "    <tr>\n",
       "      <th>2</th>\n",
       "      <td>25</td>\n",
       "      <td>42</td>\n",
       "      <td>21</td>\n",
       "      <td>15</td>\n",
       "      <td>49.883301</td>\n",
       "      <td>1</td>\n",
       "      <td>0</td>\n",
       "      <td>125000000</td>\n",
       "      <td>90000000</td>\n",
       "      <td>604800000</td>\n",
       "      <td>0.0</td>\n",
       "      <td>0.0</td>\n",
       "      <td>0.0</td>\n",
       "      <td>0.0</td>\n",
       "      <td>1.0</td>\n",
       "    </tr>\n",
       "    <tr>\n",
       "      <th>3</th>\n",
       "      <td>22</td>\n",
       "      <td>43</td>\n",
       "      <td>3</td>\n",
       "      <td>6</td>\n",
       "      <td>43.533298</td>\n",
       "      <td>5</td>\n",
       "      <td>0</td>\n",
       "      <td>70000000</td>\n",
       "      <td>65000000</td>\n",
       "      <td>671310000</td>\n",
       "      <td>0.0</td>\n",
       "      <td>0.0</td>\n",
       "      <td>0.0</td>\n",
       "      <td>0.0</td>\n",
       "      <td>1.0</td>\n",
       "    </tr>\n",
       "    <tr>\n",
       "      <th>4</th>\n",
       "      <td>25</td>\n",
       "      <td>51</td>\n",
       "      <td>0</td>\n",
       "      <td>0</td>\n",
       "      <td>76.500000</td>\n",
       "      <td>1</td>\n",
       "      <td>0</td>\n",
       "      <td>62500000</td>\n",
       "      <td>60000000</td>\n",
       "      <td>779850000</td>\n",
       "      <td>0.0</td>\n",
       "      <td>0.0</td>\n",
       "      <td>0.0</td>\n",
       "      <td>1.0</td>\n",
       "      <td>0.0</td>\n",
       "    </tr>\n",
       "  </tbody>\n",
       "</table>\n",
       "</div>"
      ],
      "text/plain": [
       "   age  games  goals  assists  hours_played  yellow_cards  red_cards  \\\n",
       "0   25     27     25       16     40.450001             8          0   \n",
       "1   33     43     28       10     60.766701             4          1   \n",
       "2   25     42     21       15     49.883301             1          0   \n",
       "3   22     43      3        6     43.533298             5          0   \n",
       "4   25     51      0        0     76.500000             1          0   \n",
       "\n",
       "   transfer_fee  market_value  club_market_value  player_position_0  \\\n",
       "0     222000000     100000000          891180000                0.0   \n",
       "1     117000000     100000000          816530000                0.0   \n",
       "2     125000000      90000000          604800000                0.0   \n",
       "3      70000000      65000000          671310000                0.0   \n",
       "4      62500000      60000000          779850000                0.0   \n",
       "\n",
       "   player_position_Attack  player_position_Defender  \\\n",
       "0                     1.0                       0.0   \n",
       "1                     1.0                       0.0   \n",
       "2                     0.0                       0.0   \n",
       "3                     0.0                       0.0   \n",
       "4                     0.0                       0.0   \n",
       "\n",
       "   player_position_Goalkeeper  player_position_Midfield  \n",
       "0                         0.0                       0.0  \n",
       "1                         0.0                       0.0  \n",
       "2                         0.0                       1.0  \n",
       "3                         0.0                       1.0  \n",
       "4                         1.0                       0.0  "
      ]
     },
     "execution_count": 6,
     "metadata": {},
     "output_type": "execute_result"
    }
   ],
   "source": [
    "# Merge one-hot encoded features and drop the originals\n",
    "Football_df = Football_df.merge(encode_df, left_index=True, right_index=True)\n",
    "Football_df.drop(Football_cat,1, inplace=True)\n",
    "Football_df.head()"
   ]
  },
  {
   "cell_type": "markdown",
   "id": "64ef5791",
   "metadata": {},
   "source": [
    "# Correlation plot\n",
    "#### Variables related to market value: transfer_fee, club_market_value, assists, goals, games, hours_played"
   ]
  },
  {
   "cell_type": "code",
   "execution_count": 7,
   "id": "c6e79448",
   "metadata": {},
   "outputs": [
    {
     "data": {
      "text/plain": [
       "<AxesSubplot:>"
      ]
     },
     "execution_count": 7,
     "metadata": {},
     "output_type": "execute_result"
    },
    {
     "data": {
      "image/png": "[encoded data removed]",
      "text/plain": [
       "<Figure size 720x720 with 2 Axes>"
      ]
     },
     "metadata": {
      "needs_background": "light"
     },
     "output_type": "display_data"
    }
   ],
   "source": [
    "Football_df.corr()\n",
    "plt.figure(figsize=(10,10))\n",
    "sns.heatmap(np.abs(Football_df.corr()), annot=True, cmap=\"viridis\", fmt=\"0.2f\")"
   ]
  },
  {
   "cell_type": "markdown",
   "id": "642fd497",
   "metadata": {
    "scrolled": true
   },
   "source": [
    "# Define x and y"
   ]
  },
  {
   "cell_type": "code",
   "execution_count": 9,
   "id": "c60eb189",
   "metadata": {},
   "outputs": [],
   "source": [
    "x=Football_df.drop(['market_value','name','team_from','league_from','team_to','player_id','club_id','country_of_birth','country_of_citizenship','position'],axis=1).values\n",
    "y=Football_df['market_value'].values"
   ]
  },
  {
   "cell_type": "code",
   "execution_count": 10,
   "id": "7763e4d7",
   "metadata": {
    "scrolled": true
   },
   "outputs": [
    {
     "name": "stdout",
     "output_type": "stream",
     "text": [
      "[[9.1000e+06 2.6000e+01 2.3130e+02 ... 0.0000e+00 6.7000e+01 6.7000e+01]\n",
      " [2.8000e+07 2.2000e+01 8.9118e+02 ... 1.0000e+00 6.8000e+01 6.8000e+01]\n",
      " [5.0000e+06 2.4000e+01 1.3095e+02 ... 1.0000e+00 5.1000e+01 5.1000e+01]\n",
      " ...\n",
      " [4.5000e+06 2.8000e+01 7.3240e+01 ... 0.0000e+00 5.5000e+01 5.5000e+01]\n",
      " [1.6900e+07 2.1000e+01 2.3130e+02 ... 0.0000e+00 5.3000e+01 5.3000e+01]\n",
      " [6.0000e+06 2.5000e+01 3.0465e+02 ... 0.0000e+00 5.3000e+01 5.3000e+01]]\n"
     ]
    }
   ],
   "source": [
    "print(x)"
   ]
  },
  {
   "cell_type": "code",
   "execution_count": 8,
   "id": "553ed996",
   "metadata": {},
   "outputs": [
    {
     "name": "stdout",
     "output_type": "stream",
     "text": [
      "[5.00e+06 1.20e+07 7.00e+06 4.00e+06 1.50e+06 5.00e+06 3.50e+06 7.00e+06\n",
      " 2.50e+07 1.80e+07 1.50e+07 2.50e+07 1.50e+06 1.20e+07 5.00e+06 4.00e+07\n",
      " 1.80e+07 6.00e+07 8.00e+05 2.00e+06 1.00e+07 1.00e+07 4.00e+06 7.00e+06\n",
      " 3.50e+06 1.80e+07 2.30e+07 2.00e+06 7.50e+06 2.00e+06 3.50e+06 8.50e+06\n",
      " 3.00e+07 3.00e+07 8.00e+06 2.50e+07 7.00e+06 5.00e+06 1.00e+07 1.00e+07\n",
      " 1.30e+07 6.00e+06 4.00e+07 2.00e+07 3.00e+07 3.00e+06 1.00e+06 1.75e+06\n",
      " 1.00e+06 1.10e+07 7.50e+06 1.10e+07 1.10e+07 2.50e+07 1.05e+07 1.80e+07\n",
      " 6.00e+06 5.00e+06 3.00e+06 2.20e+07 7.50e+06 1.00e+08 5.00e+06 1.80e+07\n",
      " 1.00e+07 3.50e+06 1.50e+07 1.60e+07 1.60e+07 1.60e+07 7.00e+06 7.00e+06\n",
      " 7.00e+06 9.00e+06 2.50e+06 2.50e+06 5.00e+06 3.00e+06 8.50e+06 6.00e+06\n",
      " 1.80e+07 1.50e+07 4.00e+06 4.00e+06 8.00e+06 5.00e+07 3.80e+06 7.50e+06\n",
      " 2.50e+06 3.50e+06 1.50e+07 1.20e+07 5.50e+07 1.50e+07 2.20e+07 7.00e+06\n",
      " 1.40e+07 7.00e+06 5.00e+06 4.50e+07 4.50e+07 7.00e+06 4.00e+06 3.00e+07\n",
      " 3.50e+06 2.00e+06 2.00e+06 3.00e+07 1.50e+06 6.00e+06 1.00e+06 6.00e+06\n",
      " 5.00e+06 5.00e+06 1.80e+07 6.00e+06 1.00e+07 1.20e+07 3.20e+07 1.30e+07\n",
      " 3.00e+07 1.20e+07 1.40e+07 2.00e+07 6.00e+05 6.00e+05 6.00e+06 7.00e+06\n",
      " 1.00e+07 9.00e+06 8.00e+06 6.00e+06 4.00e+06 7.50e+06 1.00e+07 2.50e+07\n",
      " 2.00e+07 8.00e+06 5.00e+06 7.00e+06 6.50e+06 3.50e+06 1.00e+07 7.00e+06\n",
      " 5.50e+06 2.20e+07 5.00e+06 1.00e+06 5.00e+06 1.00e+07 1.40e+07 5.00e+06\n",
      " 1.50e+07 8.00e+05 4.00e+06 1.40e+07 8.00e+06 7.00e+06 1.60e+07 3.00e+06\n",
      " 1.50e+07 2.50e+06 9.00e+06 5.00e+07 5.00e+07 5.00e+07 1.50e+07 1.50e+06\n",
      " 2.50e+07 7.50e+06 1.50e+07 1.80e+07 8.50e+06 1.50e+07 1.50e+07 7.00e+06\n",
      " 8.00e+06 1.00e+07 2.00e+07 8.00e+06 1.20e+07 3.50e+06 3.00e+07 6.50e+06\n",
      " 1.30e+07 6.00e+06 4.50e+07 9.00e+06 3.00e+06 1.20e+07 2.50e+06 1.20e+07\n",
      " 2.00e+07 7.00e+06 1.50e+07 2.80e+07 3.00e+07 1.70e+07 1.20e+07 5.00e+06\n",
      " 7.00e+06 1.50e+07 8.00e+06 8.00e+06 2.50e+06 4.50e+07 1.50e+07 5.00e+06\n",
      " 1.50e+07 2.50e+06 7.50e+06 6.50e+06 6.50e+06 6.50e+06 4.50e+06 9.50e+06\n",
      " 8.00e+05 1.00e+06 7.50e+06 1.00e+07 1.50e+07 1.00e+07 7.50e+06 1.20e+07\n",
      " 1.80e+07 1.50e+06 1.50e+07 8.50e+06 1.60e+07 1.50e+07 5.00e+06 1.50e+07\n",
      " 1.80e+07 4.00e+06 1.00e+07 1.00e+07 7.00e+06 1.20e+07 8.50e+06 3.50e+07\n",
      " 1.00e+07 1.80e+07 5.00e+06 3.50e+07 1.00e+08 1.40e+07 1.00e+07 4.00e+06\n",
      " 1.20e+07 1.40e+07 3.00e+06 1.50e+06 7.50e+06 7.00e+06 2.00e+07 5.00e+06\n",
      " 8.00e+06 1.00e+07 1.00e+07 5.00e+06 8.00e+05 2.00e+07 1.50e+07 1.50e+07\n",
      " 1.50e+07 1.50e+07 1.50e+07 1.50e+07 1.50e+07 2.50e+07 2.50e+07 2.50e+07\n",
      " 2.50e+07 2.50e+07 2.50e+07 2.50e+07 1.50e+06 9.00e+07 2.00e+06 2.00e+06\n",
      " 8.00e+06 4.50e+07 7.00e+06 1.00e+07 6.50e+06 2.00e+07 9.00e+06 2.00e+06\n",
      " 2.50e+07 9.00e+06 5.00e+07 5.00e+06 2.00e+07 4.50e+06 2.50e+06 2.50e+07\n",
      " 6.00e+06 1.00e+07 5.00e+07 2.00e+06 1.20e+07 7.00e+06 2.50e+07 3.00e+06\n",
      " 1.00e+07 2.50e+06 6.00e+06 9.00e+06 1.80e+07 1.50e+07 1.50e+07 1.10e+07\n",
      " 4.00e+06 8.50e+06 2.50e+07 1.50e+07 7.00e+06 1.00e+07 2.00e+06 7.50e+06\n",
      " 7.00e+06 1.00e+07 1.00e+07 2.00e+07 3.00e+06 3.50e+06 1.20e+07 6.50e+07\n",
      " 8.00e+06 7.00e+06 8.00e+06 4.00e+06 5.00e+06 9.00e+06 1.00e+07 9.00e+06\n",
      " 7.50e+06 8.00e+06 8.00e+06 2.50e+07 4.50e+06 1.00e+07 4.50e+06 2.75e+06\n",
      " 2.75e+06 2.75e+06 7.50e+06 7.50e+06 1.80e+07 8.00e+06 6.00e+06 2.50e+07\n",
      " 5.00e+06 1.70e+07 7.00e+06 1.80e+07 4.00e+07 9.00e+06 2.20e+07 7.00e+05\n",
      " 1.00e+07 1.70e+07 4.50e+06 8.00e+06 6.00e+06]\n"
     ]
    }
   ],
   "source": [
    "print(y)"
   ]
  },
  {
   "cell_type": "markdown",
   "id": "c406f166",
   "metadata": {},
   "source": [
    "# Split the dataset in training set and test set"
   ]
  },
  {
   "cell_type": "code",
   "execution_count": 14,
   "id": "32d49119",
   "metadata": {},
   "outputs": [],
   "source": [
    "from sklearn.model_selection import train_test_split\n",
    "x_train,x_test, y_train,y_test=train_test_split(x,y)"
   ]
  },
  {
   "cell_type": "markdown",
   "id": "1f89ca04",
   "metadata": {},
   "source": [
    "# Train the model on the training set"
   ]
  },
  {
   "cell_type": "code",
   "execution_count": 18,
   "id": "5a2bc83f",
   "metadata": {},
   "outputs": [
    {
     "data": {
      "text/plain": [
       "LinearRegression()"
      ]
     },
     "execution_count": 18,
     "metadata": {},
     "output_type": "execute_result"
    }
   ],
   "source": [
    "from sklearn.linear_model import LinearRegression\n",
    "ml=LinearRegression()\n",
    "ml.fit(x_train,y_train)"
   ]
  },
  {
   "cell_type": "markdown",
   "id": "a9b2ab9a",
   "metadata": {},
   "source": [
    "# Predict the test set results"
   ]
  },
  {
   "cell_type": "code",
   "execution_count": 19,
   "id": "c82f0608",
   "metadata": {},
   "outputs": [
    {
     "name": "stdout",
     "output_type": "stream",
     "text": [
      "[14925910.51214513 14229441.97793688  6809919.63013091  9349718.89059\n",
      "  7068962.5039652  16943125.82057292  4304184.87305501 16355288.36969631\n",
      "  8055673.08788089  4643923.12549211  9802247.31533539 25200731.3829508\n",
      " 10275601.73471914 10475126.8364151   9562776.23149432  9696990.99503597\n",
      "  6754579.14207387 15992609.71340693 27754855.84956767  4734315.98721009\n",
      " 12356527.65946872 11660880.02681884  9227016.77671519 25025942.76654144\n",
      "  6751600.53698469 17395004.13103905 26943519.35484934 16422032.62345945\n",
      " 30638638.87856172  6699708.06889591  8402614.35640074  7132966.76282638\n",
      "  6747818.52614676 16845589.31034079 14119456.1328247  30015299.10510043\n",
      "  5986775.82204154 16201760.55354902  9974716.86720023 30010480.26894649\n",
      " 15304869.87489491  4713912.23936145 11461771.46409164 30109810.47224867\n",
      "  8977591.52990155  8936447.59692604  9473758.59072164  6610503.4319844\n",
      " 16388599.24633784 21430964.07862148  7161843.97527643  7761269.57532081\n",
      " 12397282.38636381  6431980.76726148 10540249.94366956  6707060.57430488\n",
      " 34783481.39847637 10812599.91377949  8205584.22435898  9911665.09944312\n",
      " 10566051.47696041 16732318.8208434  15375459.65591981  7001525.79892549\n",
      " 15562768.49226367  6563003.68242447 11174215.10471672  7571739.20882808\n",
      " 39627836.34502005 15803785.09237403  8954840.82068462  9826922.19102778\n",
      "  8490104.43600016 72702714.67099087 15406264.91172493  4851679.56705317\n",
      "  7358125.37735669  9515510.86087583  5687796.13477879  7335319.23185854\n",
      " 32688021.54864555 18639478.9015085   3728395.47959702 15943539.06637455\n",
      " 37365973.82461662  7535282.07663902 15657279.85941192 23945496.17018028\n",
      "  5852810.32280423 11149997.40753153  7271760.30737574 29737623.65599113]\n"
     ]
    }
   ],
   "source": [
    "y_pred=ml.predict(x_test)\n",
    "print(y_pred)"
   ]
  },
  {
   "cell_type": "raw",
   "id": "668c31a0",
   "metadata": {},
   "source": [
    "ml.predict([[231.30,7]])"
   ]
  },
  {
   "cell_type": "markdown",
   "id": "d6d98fdc",
   "metadata": {},
   "source": [
    "# Evaluate the model"
   ]
  },
  {
   "cell_type": "code",
   "execution_count": 20,
   "id": "a81e5a8c",
   "metadata": {},
   "outputs": [
    {
     "data": {
      "text/plain": [
       "0.6918909522875647"
      ]
     },
     "execution_count": 20,
     "metadata": {},
     "output_type": "execute_result"
    }
   ],
   "source": [
    "from sklearn.metrics import r2_score\n",
    "r2_score(y_test,y_pred)"
   ]
  },
  {
   "cell_type": "markdown",
   "id": "099523a3",
   "metadata": {},
   "source": [
    "# Plot the results"
   ]
  },
  {
   "cell_type": "code",
   "execution_count": 22,
   "id": "ee9756fc",
   "metadata": {},
   "outputs": [
    {
     "data": {
      "text/plain": [
       "Text(0.5, 1.0, 'Actual vs. Predicted')"
      ]
     },
     "execution_count": 22,
     "metadata": {},
     "output_type": "execute_result"
    },
    {
     "data": {
      "image/png": "[encoded data removed]",
      "text/plain": [
       "<Figure size 1080x720 with 1 Axes>"
      ]
     },
     "metadata": {
      "needs_background": "light"
     },
     "output_type": "display_data"
    }
   ],
   "source": [
    "import matplotlib.pyplot as plt\n",
    "plt.figure(figsize=(15,10))\n",
    "plt.scatter(y_test,y_pred)\n",
    "plt.xlabel('Actual')\n",
    "plt.ylabel('Predicted')\n",
    "plt.title('Actual vs. Predicted')"
   ]
  },
  {
   "cell_type": "markdown",
   "id": "84cfd17f",
   "metadata": {},
   "source": [
    "# Predicted Values"
   ]
  },
  {
   "cell_type": "code",
   "execution_count": 24,
   "id": "0b8dfd99",
   "metadata": {},
   "outputs": [
    {
     "data": {
      "text/html": [
       "<div>\n",
       "<style scoped>\n",
       "    .dataframe tbody tr th:only-of-type {\n",
       "        vertical-align: middle;\n",
       "    }\n",
       "\n",
       "    .dataframe tbody tr th {\n",
       "        vertical-align: top;\n",
       "    }\n",
       "\n",
       "    .dataframe thead th {\n",
       "        text-align: right;\n",
       "    }\n",
       "</style>\n",
       "<table border=\"1\" class=\"dataframe\">\n",
       "  <thead>\n",
       "    <tr style=\"text-align: right;\">\n",
       "      <th></th>\n",
       "      <th>Actual Value</th>\n",
       "      <th>Predicted value</th>\n",
       "      <th>Difference</th>\n",
       "    </tr>\n",
       "  </thead>\n",
       "  <tbody>\n",
       "    <tr>\n",
       "      <th>0</th>\n",
       "      <td>20000000.0</td>\n",
       "      <td>1.492591e+07</td>\n",
       "      <td>5.074089e+06</td>\n",
       "    </tr>\n",
       "    <tr>\n",
       "      <th>1</th>\n",
       "      <td>18000000.0</td>\n",
       "      <td>1.422944e+07</td>\n",
       "      <td>3.770558e+06</td>\n",
       "    </tr>\n",
       "    <tr>\n",
       "      <th>2</th>\n",
       "      <td>2000000.0</td>\n",
       "      <td>6.809920e+06</td>\n",
       "      <td>-4.809920e+06</td>\n",
       "    </tr>\n",
       "    <tr>\n",
       "      <th>3</th>\n",
       "      <td>18000000.0</td>\n",
       "      <td>9.349719e+06</td>\n",
       "      <td>8.650281e+06</td>\n",
       "    </tr>\n",
       "    <tr>\n",
       "      <th>4</th>\n",
       "      <td>3000000.0</td>\n",
       "      <td>7.068963e+06</td>\n",
       "      <td>-4.068963e+06</td>\n",
       "    </tr>\n",
       "    <tr>\n",
       "      <th>5</th>\n",
       "      <td>25000000.0</td>\n",
       "      <td>1.694313e+07</td>\n",
       "      <td>8.056874e+06</td>\n",
       "    </tr>\n",
       "    <tr>\n",
       "      <th>6</th>\n",
       "      <td>800000.0</td>\n",
       "      <td>4.304185e+06</td>\n",
       "      <td>-3.504185e+06</td>\n",
       "    </tr>\n",
       "    <tr>\n",
       "      <th>7</th>\n",
       "      <td>10500000.0</td>\n",
       "      <td>1.635529e+07</td>\n",
       "      <td>-5.855288e+06</td>\n",
       "    </tr>\n",
       "    <tr>\n",
       "      <th>8</th>\n",
       "      <td>3000000.0</td>\n",
       "      <td>8.055673e+06</td>\n",
       "      <td>-5.055673e+06</td>\n",
       "    </tr>\n",
       "    <tr>\n",
       "      <th>9</th>\n",
       "      <td>2500000.0</td>\n",
       "      <td>4.643923e+06</td>\n",
       "      <td>-2.143923e+06</td>\n",
       "    </tr>\n",
       "    <tr>\n",
       "      <th>10</th>\n",
       "      <td>6000000.0</td>\n",
       "      <td>9.802247e+06</td>\n",
       "      <td>-3.802247e+06</td>\n",
       "    </tr>\n",
       "    <tr>\n",
       "      <th>11</th>\n",
       "      <td>45000000.0</td>\n",
       "      <td>2.520073e+07</td>\n",
       "      <td>1.979927e+07</td>\n",
       "    </tr>\n",
       "    <tr>\n",
       "      <th>12</th>\n",
       "      <td>9000000.0</td>\n",
       "      <td>1.027560e+07</td>\n",
       "      <td>-1.275602e+06</td>\n",
       "    </tr>\n",
       "    <tr>\n",
       "      <th>13</th>\n",
       "      <td>8000000.0</td>\n",
       "      <td>1.047513e+07</td>\n",
       "      <td>-2.475127e+06</td>\n",
       "    </tr>\n",
       "    <tr>\n",
       "      <th>14</th>\n",
       "      <td>6000000.0</td>\n",
       "      <td>9.562776e+06</td>\n",
       "      <td>-3.562776e+06</td>\n",
       "    </tr>\n",
       "    <tr>\n",
       "      <th>15</th>\n",
       "      <td>12000000.0</td>\n",
       "      <td>9.696991e+06</td>\n",
       "      <td>2.303009e+06</td>\n",
       "    </tr>\n",
       "    <tr>\n",
       "      <th>16</th>\n",
       "      <td>4000000.0</td>\n",
       "      <td>6.754579e+06</td>\n",
       "      <td>-2.754579e+06</td>\n",
       "    </tr>\n",
       "    <tr>\n",
       "      <th>17</th>\n",
       "      <td>20000000.0</td>\n",
       "      <td>1.599261e+07</td>\n",
       "      <td>4.007390e+06</td>\n",
       "    </tr>\n",
       "    <tr>\n",
       "      <th>18</th>\n",
       "      <td>45000000.0</td>\n",
       "      <td>2.775486e+07</td>\n",
       "      <td>1.724514e+07</td>\n",
       "    </tr>\n",
       "    <tr>\n",
       "      <th>19</th>\n",
       "      <td>4000000.0</td>\n",
       "      <td>4.734316e+06</td>\n",
       "      <td>-7.343160e+05</td>\n",
       "    </tr>\n",
       "  </tbody>\n",
       "</table>\n",
       "</div>"
      ],
      "text/plain": [
       "    Actual Value  Predicted value    Difference\n",
       "0     20000000.0     1.492591e+07  5.074089e+06\n",
       "1     18000000.0     1.422944e+07  3.770558e+06\n",
       "2      2000000.0     6.809920e+06 -4.809920e+06\n",
       "3     18000000.0     9.349719e+06  8.650281e+06\n",
       "4      3000000.0     7.068963e+06 -4.068963e+06\n",
       "5     25000000.0     1.694313e+07  8.056874e+06\n",
       "6       800000.0     4.304185e+06 -3.504185e+06\n",
       "7     10500000.0     1.635529e+07 -5.855288e+06\n",
       "8      3000000.0     8.055673e+06 -5.055673e+06\n",
       "9      2500000.0     4.643923e+06 -2.143923e+06\n",
       "10     6000000.0     9.802247e+06 -3.802247e+06\n",
       "11    45000000.0     2.520073e+07  1.979927e+07\n",
       "12     9000000.0     1.027560e+07 -1.275602e+06\n",
       "13     8000000.0     1.047513e+07 -2.475127e+06\n",
       "14     6000000.0     9.562776e+06 -3.562776e+06\n",
       "15    12000000.0     9.696991e+06  2.303009e+06\n",
       "16     4000000.0     6.754579e+06 -2.754579e+06\n",
       "17    20000000.0     1.599261e+07  4.007390e+06\n",
       "18    45000000.0     2.775486e+07  1.724514e+07\n",
       "19     4000000.0     4.734316e+06 -7.343160e+05"
      ]
     },
     "execution_count": 24,
     "metadata": {},
     "output_type": "execute_result"
    }
   ],
   "source": [
    "pred_y_df=pd.DataFrame({'Actual Value':y_test,'Predicted value':y_pred, 'Difference':y_test-y_pred})\n",
    "pred_y_df[0:20]"
   ]
  },
  {
   "cell_type": "code",
   "execution_count": null,
   "id": "40a905fd",
   "metadata": {},
   "outputs": [],
   "source": []
  }
 ],
 "metadata": {
  "kernelspec": {
   "display_name": "PythonDATA",
   "language": "python",
   "name": "pythondata"
  },
  "language_info": {
   "codemirror_mode": {
    "name": "ipython",
    "version": 3
   },
   "file_extension": ".py",
   "mimetype": "text/x-python",
   "name": "python",
   "nbconvert_exporter": "python",
   "pygments_lexer": "ipython3",
   "version": "3.7.10"
  }
 },
 "nbformat": 4,
 "nbformat_minor": 5
}
