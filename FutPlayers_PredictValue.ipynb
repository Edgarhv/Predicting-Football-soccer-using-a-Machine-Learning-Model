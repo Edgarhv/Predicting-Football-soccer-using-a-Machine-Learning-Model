{
 "cells": [
  {
   "cell_type": "markdown",
   "id": "1ed39364",
   "metadata": {},
   "source": [
    "# Import Libraries"
   ]
  },
  {
   "cell_type": "code",
   "execution_count": 2,
   "id": "53d09271",
   "metadata": {},
   "outputs": [],
   "source": [
    "import pandas as pd\n",
    "import numpy as np"
   ]
  },
  {
   "cell_type": "markdown",
   "id": "7979b8fb",
   "metadata": {},
   "source": [
    "# Import dataset"
   ]
  },
  {
   "cell_type": "code",
   "execution_count": 4,
   "id": "9b462539",
   "metadata": {
    "scrolled": true
   },
   "outputs": [
    {
     "data": {
      "text/html": [
       "<div>\n",
       "<style scoped>\n",
       "    .dataframe tbody tr th:only-of-type {\n",
       "        vertical-align: middle;\n",
       "    }\n",
       "\n",
       "    .dataframe tbody tr th {\n",
       "        vertical-align: top;\n",
       "    }\n",
       "\n",
       "    .dataframe thead th {\n",
       "        text-align: right;\n",
       "    }\n",
       "</style>\n",
       "<table border=\"1\" class=\"dataframe\">\n",
       "  <thead>\n",
       "    <tr style=\"text-align: right;\">\n",
       "      <th></th>\n",
       "      <th>name</th>\n",
       "      <th>transfer_fee</th>\n",
       "      <th>age</th>\n",
       "      <th>team_from</th>\n",
       "      <th>league_from</th>\n",
       "      <th>team_to</th>\n",
       "      <th>market_value</th>\n",
       "      <th>player_id</th>\n",
       "      <th>club_id</th>\n",
       "      <th>country_of_birth</th>\n",
       "      <th>country_of_citizenship</th>\n",
       "      <th>position</th>\n",
       "      <th>club_market_value</th>\n",
       "      <th>goals</th>\n",
       "      <th>assists</th>\n",
       "      <th>minutes_played</th>\n",
       "      <th>yellow_cards</th>\n",
       "      <th>red_cards</th>\n",
       "      <th>games</th>\n",
       "      <th>appearances</th>\n",
       "    </tr>\n",
       "  </thead>\n",
       "  <tbody>\n",
       "    <tr>\n",
       "      <th>0</th>\n",
       "      <td>Aaron Mooy</td>\n",
       "      <td>9100000</td>\n",
       "      <td>26</td>\n",
       "      <td>Man City</td>\n",
       "      <td>Premier League</td>\n",
       "      <td>Huddersfield</td>\n",
       "      <td>5000000.0</td>\n",
       "      <td>123951</td>\n",
       "      <td>1237</td>\n",
       "      <td>Australia</td>\n",
       "      <td>Australia</td>\n",
       "      <td>Midfield</td>\n",
       "      <td>231.30</td>\n",
       "      <td>7</td>\n",
       "      <td>4</td>\n",
       "      <td>5435</td>\n",
       "      <td>8</td>\n",
       "      <td>0</td>\n",
       "      <td>67</td>\n",
       "      <td>67</td>\n",
       "    </tr>\n",
       "    <tr>\n",
       "      <th>1</th>\n",
       "      <td>Abdou Diallo</td>\n",
       "      <td>28000000</td>\n",
       "      <td>22</td>\n",
       "      <td>1.FSV Mainz 05</td>\n",
       "      <td>1.Bundesliga</td>\n",
       "      <td>Bor. Dortmund</td>\n",
       "      <td>12000000.0</td>\n",
       "      <td>229005</td>\n",
       "      <td>583</td>\n",
       "      <td>France</td>\n",
       "      <td>Senegal</td>\n",
       "      <td>Defender</td>\n",
       "      <td>891.18</td>\n",
       "      <td>4</td>\n",
       "      <td>2</td>\n",
       "      <td>5943</td>\n",
       "      <td>7</td>\n",
       "      <td>1</td>\n",
       "      <td>68</td>\n",
       "      <td>68</td>\n",
       "    </tr>\n",
       "    <tr>\n",
       "      <th>2</th>\n",
       "      <td>Adam Masina</td>\n",
       "      <td>5000000</td>\n",
       "      <td>24</td>\n",
       "      <td>Bologna</td>\n",
       "      <td>Serie A</td>\n",
       "      <td>Watford</td>\n",
       "      <td>7000000.0</td>\n",
       "      <td>286949</td>\n",
       "      <td>1010</td>\n",
       "      <td>Morocco</td>\n",
       "      <td>Morocco</td>\n",
       "      <td>Defender</td>\n",
       "      <td>130.95</td>\n",
       "      <td>0</td>\n",
       "      <td>3</td>\n",
       "      <td>4070</td>\n",
       "      <td>14</td>\n",
       "      <td>1</td>\n",
       "      <td>51</td>\n",
       "      <td>51</td>\n",
       "    </tr>\n",
       "    <tr>\n",
       "      <th>3</th>\n",
       "      <td>Adam Ounas</td>\n",
       "      <td>10000000</td>\n",
       "      <td>20</td>\n",
       "      <td>G. Bordeaux</td>\n",
       "      <td>Ligue 1</td>\n",
       "      <td>SSC Napoli</td>\n",
       "      <td>4000000.0</td>\n",
       "      <td>400485</td>\n",
       "      <td>6195</td>\n",
       "      <td>France</td>\n",
       "      <td>Algeria</td>\n",
       "      <td>Attack</td>\n",
       "      <td>466.70</td>\n",
       "      <td>5</td>\n",
       "      <td>1</td>\n",
       "      <td>1120</td>\n",
       "      <td>2</td>\n",
       "      <td>0</td>\n",
       "      <td>39</td>\n",
       "      <td>39</td>\n",
       "    </tr>\n",
       "    <tr>\n",
       "      <th>4</th>\n",
       "      <td>Adama Diakhaby</td>\n",
       "      <td>10000000</td>\n",
       "      <td>21</td>\n",
       "      <td>Stade Rennais</td>\n",
       "      <td>Ligue 1</td>\n",
       "      <td>Monaco</td>\n",
       "      <td>1500000.0</td>\n",
       "      <td>453594</td>\n",
       "      <td>1110</td>\n",
       "      <td>France</td>\n",
       "      <td>France</td>\n",
       "      <td>Attack</td>\n",
       "      <td>30.69</td>\n",
       "      <td>4</td>\n",
       "      <td>6</td>\n",
       "      <td>3262</td>\n",
       "      <td>10</td>\n",
       "      <td>2</td>\n",
       "      <td>78</td>\n",
       "      <td>78</td>\n",
       "    </tr>\n",
       "  </tbody>\n",
       "</table>\n",
       "</div>"
      ],
      "text/plain": [
       "             name  transfer_fee  age       team_from     league_from  \\\n",
       "0      Aaron Mooy       9100000   26        Man City  Premier League   \n",
       "1    Abdou Diallo      28000000   22  1.FSV Mainz 05    1.Bundesliga   \n",
       "2     Adam Masina       5000000   24         Bologna         Serie A   \n",
       "3      Adam Ounas      10000000   20     G. Bordeaux         Ligue 1   \n",
       "4  Adama Diakhaby      10000000   21   Stade Rennais         Ligue 1   \n",
       "\n",
       "         team_to  market_value  player_id  club_id country_of_birth  \\\n",
       "0   Huddersfield     5000000.0     123951     1237        Australia   \n",
       "1  Bor. Dortmund    12000000.0     229005      583           France   \n",
       "2        Watford     7000000.0     286949     1010          Morocco   \n",
       "3     SSC Napoli     4000000.0     400485     6195           France   \n",
       "4         Monaco     1500000.0     453594     1110           France   \n",
       "\n",
       "  country_of_citizenship  position  club_market_value  goals  assists  \\\n",
       "0              Australia  Midfield             231.30      7        4   \n",
       "1                Senegal  Defender             891.18      4        2   \n",
       "2                Morocco  Defender             130.95      0        3   \n",
       "3                Algeria    Attack             466.70      5        1   \n",
       "4                 France    Attack              30.69      4        6   \n",
       "\n",
       "   minutes_played  yellow_cards  red_cards  games  appearances  \n",
       "0            5435             8          0     67           67  \n",
       "1            5943             7          1     68           68  \n",
       "2            4070            14          1     51           51  \n",
       "3            1120             2          0     39           39  \n",
       "4            3262            10          2     78           78  "
      ]
     },
     "execution_count": 4,
     "metadata": {},
     "output_type": "execute_result"
    }
   ],
   "source": [
    "file_path = \"Resources/data_features.csv\"\n",
    "Football_df = pd.read_csv(file_path)\n",
    "Football_df.head()"
   ]
  },
  {
   "cell_type": "markdown",
   "id": "642fd497",
   "metadata": {
    "scrolled": true
   },
   "source": [
    "# Define x and y"
   ]
  },
  {
   "cell_type": "code",
   "execution_count": 9,
   "id": "c60eb189",
   "metadata": {},
   "outputs": [],
   "source": [
    "x=Football_df.drop(['market_value','name','team_from','league_from','team_to','player_id','club_id','country_of_birth','country_of_citizenship','position'],axis=1).values\n",
    "y=Football_df['market_value'].values"
   ]
  },
  {
   "cell_type": "code",
   "execution_count": 10,
   "id": "7763e4d7",
   "metadata": {
    "scrolled": true
   },
   "outputs": [
    {
     "name": "stdout",
     "output_type": "stream",
     "text": [
      "[[9.1000e+06 2.6000e+01 2.3130e+02 ... 0.0000e+00 6.7000e+01 6.7000e+01]\n",
      " [2.8000e+07 2.2000e+01 8.9118e+02 ... 1.0000e+00 6.8000e+01 6.8000e+01]\n",
      " [5.0000e+06 2.4000e+01 1.3095e+02 ... 1.0000e+00 5.1000e+01 5.1000e+01]\n",
      " ...\n",
      " [4.5000e+06 2.8000e+01 7.3240e+01 ... 0.0000e+00 5.5000e+01 5.5000e+01]\n",
      " [1.6900e+07 2.1000e+01 2.3130e+02 ... 0.0000e+00 5.3000e+01 5.3000e+01]\n",
      " [6.0000e+06 2.5000e+01 3.0465e+02 ... 0.0000e+00 5.3000e+01 5.3000e+01]]\n"
     ]
    }
   ],
   "source": [
    "print(x)"
   ]
  },
  {
   "cell_type": "code",
   "execution_count": 8,
   "id": "553ed996",
   "metadata": {},
   "outputs": [
    {
     "name": "stdout",
     "output_type": "stream",
     "text": [
      "[5.00e+06 1.20e+07 7.00e+06 4.00e+06 1.50e+06 5.00e+06 3.50e+06 7.00e+06\n",
      " 2.50e+07 1.80e+07 1.50e+07 2.50e+07 1.50e+06 1.20e+07 5.00e+06 4.00e+07\n",
      " 1.80e+07 6.00e+07 8.00e+05 2.00e+06 1.00e+07 1.00e+07 4.00e+06 7.00e+06\n",
      " 3.50e+06 1.80e+07 2.30e+07 2.00e+06 7.50e+06 2.00e+06 3.50e+06 8.50e+06\n",
      " 3.00e+07 3.00e+07 8.00e+06 2.50e+07 7.00e+06 5.00e+06 1.00e+07 1.00e+07\n",
      " 1.30e+07 6.00e+06 4.00e+07 2.00e+07 3.00e+07 3.00e+06 1.00e+06 1.75e+06\n",
      " 1.00e+06 1.10e+07 7.50e+06 1.10e+07 1.10e+07 2.50e+07 1.05e+07 1.80e+07\n",
      " 6.00e+06 5.00e+06 3.00e+06 2.20e+07 7.50e+06 1.00e+08 5.00e+06 1.80e+07\n",
      " 1.00e+07 3.50e+06 1.50e+07 1.60e+07 1.60e+07 1.60e+07 7.00e+06 7.00e+06\n",
      " 7.00e+06 9.00e+06 2.50e+06 2.50e+06 5.00e+06 3.00e+06 8.50e+06 6.00e+06\n",
      " 1.80e+07 1.50e+07 4.00e+06 4.00e+06 8.00e+06 5.00e+07 3.80e+06 7.50e+06\n",
      " 2.50e+06 3.50e+06 1.50e+07 1.20e+07 5.50e+07 1.50e+07 2.20e+07 7.00e+06\n",
      " 1.40e+07 7.00e+06 5.00e+06 4.50e+07 4.50e+07 7.00e+06 4.00e+06 3.00e+07\n",
      " 3.50e+06 2.00e+06 2.00e+06 3.00e+07 1.50e+06 6.00e+06 1.00e+06 6.00e+06\n",
      " 5.00e+06 5.00e+06 1.80e+07 6.00e+06 1.00e+07 1.20e+07 3.20e+07 1.30e+07\n",
      " 3.00e+07 1.20e+07 1.40e+07 2.00e+07 6.00e+05 6.00e+05 6.00e+06 7.00e+06\n",
      " 1.00e+07 9.00e+06 8.00e+06 6.00e+06 4.00e+06 7.50e+06 1.00e+07 2.50e+07\n",
      " 2.00e+07 8.00e+06 5.00e+06 7.00e+06 6.50e+06 3.50e+06 1.00e+07 7.00e+06\n",
      " 5.50e+06 2.20e+07 5.00e+06 1.00e+06 5.00e+06 1.00e+07 1.40e+07 5.00e+06\n",
      " 1.50e+07 8.00e+05 4.00e+06 1.40e+07 8.00e+06 7.00e+06 1.60e+07 3.00e+06\n",
      " 1.50e+07 2.50e+06 9.00e+06 5.00e+07 5.00e+07 5.00e+07 1.50e+07 1.50e+06\n",
      " 2.50e+07 7.50e+06 1.50e+07 1.80e+07 8.50e+06 1.50e+07 1.50e+07 7.00e+06\n",
      " 8.00e+06 1.00e+07 2.00e+07 8.00e+06 1.20e+07 3.50e+06 3.00e+07 6.50e+06\n",
      " 1.30e+07 6.00e+06 4.50e+07 9.00e+06 3.00e+06 1.20e+07 2.50e+06 1.20e+07\n",
      " 2.00e+07 7.00e+06 1.50e+07 2.80e+07 3.00e+07 1.70e+07 1.20e+07 5.00e+06\n",
      " 7.00e+06 1.50e+07 8.00e+06 8.00e+06 2.50e+06 4.50e+07 1.50e+07 5.00e+06\n",
      " 1.50e+07 2.50e+06 7.50e+06 6.50e+06 6.50e+06 6.50e+06 4.50e+06 9.50e+06\n",
      " 8.00e+05 1.00e+06 7.50e+06 1.00e+07 1.50e+07 1.00e+07 7.50e+06 1.20e+07\n",
      " 1.80e+07 1.50e+06 1.50e+07 8.50e+06 1.60e+07 1.50e+07 5.00e+06 1.50e+07\n",
      " 1.80e+07 4.00e+06 1.00e+07 1.00e+07 7.00e+06 1.20e+07 8.50e+06 3.50e+07\n",
      " 1.00e+07 1.80e+07 5.00e+06 3.50e+07 1.00e+08 1.40e+07 1.00e+07 4.00e+06\n",
      " 1.20e+07 1.40e+07 3.00e+06 1.50e+06 7.50e+06 7.00e+06 2.00e+07 5.00e+06\n",
      " 8.00e+06 1.00e+07 1.00e+07 5.00e+06 8.00e+05 2.00e+07 1.50e+07 1.50e+07\n",
      " 1.50e+07 1.50e+07 1.50e+07 1.50e+07 1.50e+07 2.50e+07 2.50e+07 2.50e+07\n",
      " 2.50e+07 2.50e+07 2.50e+07 2.50e+07 1.50e+06 9.00e+07 2.00e+06 2.00e+06\n",
      " 8.00e+06 4.50e+07 7.00e+06 1.00e+07 6.50e+06 2.00e+07 9.00e+06 2.00e+06\n",
      " 2.50e+07 9.00e+06 5.00e+07 5.00e+06 2.00e+07 4.50e+06 2.50e+06 2.50e+07\n",
      " 6.00e+06 1.00e+07 5.00e+07 2.00e+06 1.20e+07 7.00e+06 2.50e+07 3.00e+06\n",
      " 1.00e+07 2.50e+06 6.00e+06 9.00e+06 1.80e+07 1.50e+07 1.50e+07 1.10e+07\n",
      " 4.00e+06 8.50e+06 2.50e+07 1.50e+07 7.00e+06 1.00e+07 2.00e+06 7.50e+06\n",
      " 7.00e+06 1.00e+07 1.00e+07 2.00e+07 3.00e+06 3.50e+06 1.20e+07 6.50e+07\n",
      " 8.00e+06 7.00e+06 8.00e+06 4.00e+06 5.00e+06 9.00e+06 1.00e+07 9.00e+06\n",
      " 7.50e+06 8.00e+06 8.00e+06 2.50e+07 4.50e+06 1.00e+07 4.50e+06 2.75e+06\n",
      " 2.75e+06 2.75e+06 7.50e+06 7.50e+06 1.80e+07 8.00e+06 6.00e+06 2.50e+07\n",
      " 5.00e+06 1.70e+07 7.00e+06 1.80e+07 4.00e+07 9.00e+06 2.20e+07 7.00e+05\n",
      " 1.00e+07 1.70e+07 4.50e+06 8.00e+06 6.00e+06]\n"
     ]
    }
   ],
   "source": [
    "print(y)"
   ]
  },
  {
   "cell_type": "markdown",
   "id": "c406f166",
   "metadata": {},
   "source": [
    "# Split the dataset in training set and test set"
   ]
  },
  {
   "cell_type": "code",
   "execution_count": 14,
   "id": "32d49119",
   "metadata": {},
   "outputs": [],
   "source": [
    "from sklearn.model_selection import train_test_split\n",
    "x_train,x_test, y_train,y_test=train_test_split(x,y)"
   ]
  },
  {
   "cell_type": "markdown",
   "id": "1f89ca04",
   "metadata": {},
   "source": [
    "# Train the model on the training set"
   ]
  },
  {
   "cell_type": "code",
   "execution_count": 18,
   "id": "5a2bc83f",
   "metadata": {},
   "outputs": [
    {
     "data": {
      "text/plain": [
       "LinearRegression()"
      ]
     },
     "execution_count": 18,
     "metadata": {},
     "output_type": "execute_result"
    }
   ],
   "source": [
    "from sklearn.linear_model import LinearRegression\n",
    "ml=LinearRegression()\n",
    "ml.fit(x_train,y_train)"
   ]
  },
  {
   "cell_type": "markdown",
   "id": "a9b2ab9a",
   "metadata": {},
   "source": [
    "# Predict the test set results"
   ]
  },
  {
   "cell_type": "code",
   "execution_count": 19,
   "id": "c82f0608",
   "metadata": {},
   "outputs": [
    {
     "name": "stdout",
     "output_type": "stream",
     "text": [
      "[14925910.51214513 14229441.97793688  6809919.63013091  9349718.89059\n",
      "  7068962.5039652  16943125.82057292  4304184.87305501 16355288.36969631\n",
      "  8055673.08788089  4643923.12549211  9802247.31533539 25200731.3829508\n",
      " 10275601.73471914 10475126.8364151   9562776.23149432  9696990.99503597\n",
      "  6754579.14207387 15992609.71340693 27754855.84956767  4734315.98721009\n",
      " 12356527.65946872 11660880.02681884  9227016.77671519 25025942.76654144\n",
      "  6751600.53698469 17395004.13103905 26943519.35484934 16422032.62345945\n",
      " 30638638.87856172  6699708.06889591  8402614.35640074  7132966.76282638\n",
      "  6747818.52614676 16845589.31034079 14119456.1328247  30015299.10510043\n",
      "  5986775.82204154 16201760.55354902  9974716.86720023 30010480.26894649\n",
      " 15304869.87489491  4713912.23936145 11461771.46409164 30109810.47224867\n",
      "  8977591.52990155  8936447.59692604  9473758.59072164  6610503.4319844\n",
      " 16388599.24633784 21430964.07862148  7161843.97527643  7761269.57532081\n",
      " 12397282.38636381  6431980.76726148 10540249.94366956  6707060.57430488\n",
      " 34783481.39847637 10812599.91377949  8205584.22435898  9911665.09944312\n",
      " 10566051.47696041 16732318.8208434  15375459.65591981  7001525.79892549\n",
      " 15562768.49226367  6563003.68242447 11174215.10471672  7571739.20882808\n",
      " 39627836.34502005 15803785.09237403  8954840.82068462  9826922.19102778\n",
      "  8490104.43600016 72702714.67099087 15406264.91172493  4851679.56705317\n",
      "  7358125.37735669  9515510.86087583  5687796.13477879  7335319.23185854\n",
      " 32688021.54864555 18639478.9015085   3728395.47959702 15943539.06637455\n",
      " 37365973.82461662  7535282.07663902 15657279.85941192 23945496.17018028\n",
      "  5852810.32280423 11149997.40753153  7271760.30737574 29737623.65599113]\n"
     ]
    }
   ],
   "source": [
    "y_pred=ml.predict(x_test)\n",
    "print(y_pred)"
   ]
  },
  {
   "cell_type": "raw",
   "id": "668c31a0",
   "metadata": {},
   "source": [
    "ml.predict([[231.30,7]])"
   ]
  },
  {
   "cell_type": "markdown",
   "id": "d6d98fdc",
   "metadata": {},
   "source": [
    "# Evaluate the model"
   ]
  },
  {
   "cell_type": "code",
   "execution_count": 20,
   "id": "a81e5a8c",
   "metadata": {},
   "outputs": [
    {
     "data": {
      "text/plain": [
       "0.6918909522875647"
      ]
     },
     "execution_count": 20,
     "metadata": {},
     "output_type": "execute_result"
    }
   ],
   "source": [
    "from sklearn.metrics import r2_score\n",
    "r2_score(y_test,y_pred)"
   ]
  },
  {
   "cell_type": "markdown",
   "id": "099523a3",
   "metadata": {},
   "source": [
    "# Plot the results"
   ]
  },
  {
   "cell_type": "code",
   "execution_count": 22,
   "id": "ee9756fc",
   "metadata": {},
   "outputs": [
    {
     "data": {
      "text/plain": [
       "Text(0.5, 1.0, 'Actual vs. Predicted')"
      ]
     },
     "execution_count": 22,
     "metadata": {},
     "output_type": "execute_result"
    },
    {
     "data": {
      "image/png": "[encoded data removed]",
      "text/plain": [
       "<Figure size 1080x720 with 1 Axes>"
      ]
     },
     "metadata": {
      "needs_background": "light"
     },
     "output_type": "display_data"
    }
   ],
   "source": [
    "import matplotlib.pyplot as plt\n",
    "plt.figure(figsize=(15,10))\n",
    "plt.scatter(y_test,y_pred)\n",
    "plt.xlabel('Actual')\n",
    "plt.ylabel('Predicted')\n",
    "plt.title('Actual vs. Predicted')"
   ]
  },
  {
   "cell_type": "markdown",
   "id": "84cfd17f",
   "metadata": {},
   "source": [
    "# Predicted Values"
   ]
  },
  {
   "cell_type": "code",
   "execution_count": 24,
   "id": "0b8dfd99",
   "metadata": {},
   "outputs": [
    {
     "data": {
      "text/html": [
       "<div>\n",
       "<style scoped>\n",
       "    .dataframe tbody tr th:only-of-type {\n",
       "        vertical-align: middle;\n",
       "    }\n",
       "\n",
       "    .dataframe tbody tr th {\n",
       "        vertical-align: top;\n",
       "    }\n",
       "\n",
       "    .dataframe thead th {\n",
       "        text-align: right;\n",
       "    }\n",
       "</style>\n",
       "<table border=\"1\" class=\"dataframe\">\n",
       "  <thead>\n",
       "    <tr style=\"text-align: right;\">\n",
       "      <th></th>\n",
       "      <th>Actual Value</th>\n",
       "      <th>Predicted value</th>\n",
       "      <th>Difference</th>\n",
       "    </tr>\n",
       "  </thead>\n",
       "  <tbody>\n",
       "    <tr>\n",
       "      <th>0</th>\n",
       "      <td>20000000.0</td>\n",
       "      <td>1.492591e+07</td>\n",
       "      <td>5.074089e+06</td>\n",
       "    </tr>\n",
       "    <tr>\n",
       "      <th>1</th>\n",
       "      <td>18000000.0</td>\n",
       "      <td>1.422944e+07</td>\n",
       "      <td>3.770558e+06</td>\n",
       "    </tr>\n",
       "    <tr>\n",
       "      <th>2</th>\n",
       "      <td>2000000.0</td>\n",
       "      <td>6.809920e+06</td>\n",
       "      <td>-4.809920e+06</td>\n",
       "    </tr>\n",
       "    <tr>\n",
       "      <th>3</th>\n",
       "      <td>18000000.0</td>\n",
       "      <td>9.349719e+06</td>\n",
       "      <td>8.650281e+06</td>\n",
       "    </tr>\n",
       "    <tr>\n",
       "      <th>4</th>\n",
       "      <td>3000000.0</td>\n",
       "      <td>7.068963e+06</td>\n",
       "      <td>-4.068963e+06</td>\n",
       "    </tr>\n",
       "    <tr>\n",
       "      <th>5</th>\n",
       "      <td>25000000.0</td>\n",
       "      <td>1.694313e+07</td>\n",
       "      <td>8.056874e+06</td>\n",
       "    </tr>\n",
       "    <tr>\n",
       "      <th>6</th>\n",
       "      <td>800000.0</td>\n",
       "      <td>4.304185e+06</td>\n",
       "      <td>-3.504185e+06</td>\n",
       "    </tr>\n",
       "    <tr>\n",
       "      <th>7</th>\n",
       "      <td>10500000.0</td>\n",
       "      <td>1.635529e+07</td>\n",
       "      <td>-5.855288e+06</td>\n",
       "    </tr>\n",
       "    <tr>\n",
       "      <th>8</th>\n",
       "      <td>3000000.0</td>\n",
       "      <td>8.055673e+06</td>\n",
       "      <td>-5.055673e+06</td>\n",
       "    </tr>\n",
       "    <tr>\n",
       "      <th>9</th>\n",
       "      <td>2500000.0</td>\n",
       "      <td>4.643923e+06</td>\n",
       "      <td>-2.143923e+06</td>\n",
       "    </tr>\n",
       "    <tr>\n",
       "      <th>10</th>\n",
       "      <td>6000000.0</td>\n",
       "      <td>9.802247e+06</td>\n",
       "      <td>-3.802247e+06</td>\n",
       "    </tr>\n",
       "    <tr>\n",
       "      <th>11</th>\n",
       "      <td>45000000.0</td>\n",
       "      <td>2.520073e+07</td>\n",
       "      <td>1.979927e+07</td>\n",
       "    </tr>\n",
       "    <tr>\n",
       "      <th>12</th>\n",
       "      <td>9000000.0</td>\n",
       "      <td>1.027560e+07</td>\n",
       "      <td>-1.275602e+06</td>\n",
       "    </tr>\n",
       "    <tr>\n",
       "      <th>13</th>\n",
       "      <td>8000000.0</td>\n",
       "      <td>1.047513e+07</td>\n",
       "      <td>-2.475127e+06</td>\n",
       "    </tr>\n",
       "    <tr>\n",
       "      <th>14</th>\n",
       "      <td>6000000.0</td>\n",
       "      <td>9.562776e+06</td>\n",
       "      <td>-3.562776e+06</td>\n",
       "    </tr>\n",
       "    <tr>\n",
       "      <th>15</th>\n",
       "      <td>12000000.0</td>\n",
       "      <td>9.696991e+06</td>\n",
       "      <td>2.303009e+06</td>\n",
       "    </tr>\n",
       "    <tr>\n",
       "      <th>16</th>\n",
       "      <td>4000000.0</td>\n",
       "      <td>6.754579e+06</td>\n",
       "      <td>-2.754579e+06</td>\n",
       "    </tr>\n",
       "    <tr>\n",
       "      <th>17</th>\n",
       "      <td>20000000.0</td>\n",
       "      <td>1.599261e+07</td>\n",
       "      <td>4.007390e+06</td>\n",
       "    </tr>\n",
       "    <tr>\n",
       "      <th>18</th>\n",
       "      <td>45000000.0</td>\n",
       "      <td>2.775486e+07</td>\n",
       "      <td>1.724514e+07</td>\n",
       "    </tr>\n",
       "    <tr>\n",
       "      <th>19</th>\n",
       "      <td>4000000.0</td>\n",
       "      <td>4.734316e+06</td>\n",
       "      <td>-7.343160e+05</td>\n",
       "    </tr>\n",
       "  </tbody>\n",
       "</table>\n",
       "</div>"
      ],
      "text/plain": [
       "    Actual Value  Predicted value    Difference\n",
       "0     20000000.0     1.492591e+07  5.074089e+06\n",
       "1     18000000.0     1.422944e+07  3.770558e+06\n",
       "2      2000000.0     6.809920e+06 -4.809920e+06\n",
       "3     18000000.0     9.349719e+06  8.650281e+06\n",
       "4      3000000.0     7.068963e+06 -4.068963e+06\n",
       "5     25000000.0     1.694313e+07  8.056874e+06\n",
       "6       800000.0     4.304185e+06 -3.504185e+06\n",
       "7     10500000.0     1.635529e+07 -5.855288e+06\n",
       "8      3000000.0     8.055673e+06 -5.055673e+06\n",
       "9      2500000.0     4.643923e+06 -2.143923e+06\n",
       "10     6000000.0     9.802247e+06 -3.802247e+06\n",
       "11    45000000.0     2.520073e+07  1.979927e+07\n",
       "12     9000000.0     1.027560e+07 -1.275602e+06\n",
       "13     8000000.0     1.047513e+07 -2.475127e+06\n",
       "14     6000000.0     9.562776e+06 -3.562776e+06\n",
       "15    12000000.0     9.696991e+06  2.303009e+06\n",
       "16     4000000.0     6.754579e+06 -2.754579e+06\n",
       "17    20000000.0     1.599261e+07  4.007390e+06\n",
       "18    45000000.0     2.775486e+07  1.724514e+07\n",
       "19     4000000.0     4.734316e+06 -7.343160e+05"
      ]
     },
     "execution_count": 24,
     "metadata": {},
     "output_type": "execute_result"
    }
   ],
   "source": [
    "pred_y_df=pd.DataFrame({'Actual Value':y_test,'Predicted value':y_pred, 'Difference':y_test-y_pred})\n",
    "pred_y_df[0:20]"
   ]
  },
  {
   "cell_type": "code",
   "execution_count": null,
   "id": "40a905fd",
   "metadata": {},
   "outputs": [],
   "source": []
  }
 ],
 "metadata": {
  "kernelspec": {
   "display_name": "PythonData",
   "language": "python",
   "name": "pythondata"
  },
  "language_info": {
   "codemirror_mode": {
    "name": "ipython",
    "version": 3
   },
   "file_extension": ".py",
   "mimetype": "text/x-python",
   "name": "python",
   "nbconvert_exporter": "python",
   "pygments_lexer": "ipython3",
   "version": "3.7.10"
  }
 },
 "nbformat": 4,
 "nbformat_minor": 5
}
